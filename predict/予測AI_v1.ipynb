{
  "cells": [
    {
      "cell_type": "code",
      "execution_count": 10,
      "metadata": {
        "id": "U6iXzGf5PX9C"
      },
      "outputs": [],
      "source": [
        "# 主要モジュール\n",
        "import torch\n",
        "import pandas as pd\n",
        "# import numpy as np\n",
        "import matplotlib.pyplot as plt\n",
        "\n",
        "# 学習用のサンプルデータ\n",
        "from sklearn import datasets\n",
        "\n",
        "# データを整理する\n",
        "from torch.utils.data import DataLoader\n",
        "\n",
        "# 全結合層と活性化関数\n",
        "from torch import nn\n",
        "from torch.nn import functional as F\n",
        "\n",
        "# 損失関数と最適化関数\n",
        "from torch import optim\n",
        "import pandas as pd"
      ]
    },
    {
      "cell_type": "code",
      "execution_count": 11,
      "metadata": {
        "colab": {
          "base_uri": "https://localhost:8080/"
        },
        "id": "KkHUi_UzP5ad",
        "outputId": "1e6de588-362f-41ac-800f-9987e2521599"
      },
      "outputs": [
        {
          "name": "stdout",
          "output_type": "stream",
          "text": [
            "run with cuda\n"
          ]
        }
      ],
      "source": [
        "device = torch.device('cuda' if torch.cuda.is_available() else 'cpu')\n",
        "print(f\"run with {device}\")"
      ]
    },
    {
      "cell_type": "code",
      "execution_count": 12,
      "metadata": {
        "id": "0g1uS0mWa1jR"
      },
      "outputs": [],
      "source": [
        "# CSVファイルのパスを指定して読み込む\n",
        "df = pd.read_csv('dataset_v1_1.csv', encoding='shift_jis')"
      ]
    },
    {
      "cell_type": "code",
      "execution_count": 13,
      "metadata": {
        "colab": {
          "base_uri": "https://localhost:8080/",
          "height": 1000
        },
        "id": "NyYxOKQdYcrR",
        "outputId": "0a0fae4c-0804-4ba9-f55d-70527646e388"
      },
      "outputs": [
        {
          "data": {
            "text/html": [
              "<div>\n",
              "<style scoped>\n",
              "    .dataframe tbody tr th:only-of-type {\n",
              "        vertical-align: middle;\n",
              "    }\n",
              "\n",
              "    .dataframe tbody tr th {\n",
              "        vertical-align: top;\n",
              "    }\n",
              "\n",
              "    .dataframe thead th {\n",
              "        text-align: right;\n",
              "    }\n",
              "</style>\n",
              "<table border=\"1\" class=\"dataframe\">\n",
              "  <thead>\n",
              "    <tr style=\"text-align: right;\">\n",
              "      <th></th>\n",
              "      <th>タイトル</th>\n",
              "      <th>日次</th>\n",
              "      <th>レース日</th>\n",
              "      <th>レース場</th>\n",
              "      <th>レース回</th>\n",
              "      <th>3連単_組番</th>\n",
              "      <th>3連単_払戻金</th>\n",
              "      <th>3連複_組番</th>\n",
              "      <th>3連複_払戻金</th>\n",
              "      <th>2連単_組番</th>\n",
              "      <th>...</th>\n",
              "      <th>全国3連率_6</th>\n",
              "      <th>当地勝率_6</th>\n",
              "      <th>当地2連率_6</th>\n",
              "      <th>当地3連率_6</th>\n",
              "      <th>モーター番号_6</th>\n",
              "      <th>モーター2連率_6</th>\n",
              "      <th>モーター3連率_6</th>\n",
              "      <th>モーター番号_6.1</th>\n",
              "      <th>モーター2連率_6.1</th>\n",
              "      <th>モーター3連率_6.1</th>\n",
              "    </tr>\n",
              "  </thead>\n",
              "  <tbody>\n",
              "    <tr>\n",
              "      <th>0</th>\n",
              "      <td>ウルトラセブン杯</td>\n",
              "      <td>第7日</td>\n",
              "      <td>2022/1/1</td>\n",
              "      <td>大村</td>\n",
              "      <td>1R</td>\n",
              "      <td>1-5-3</td>\n",
              "      <td>5460</td>\n",
              "      <td>1-3-5</td>\n",
              "      <td>1130</td>\n",
              "      <td>1-5</td>\n",
              "      <td>...</td>\n",
              "      <td>46.15</td>\n",
              "      <td>4.63</td>\n",
              "      <td>26.490</td>\n",
              "      <td>43.05</td>\n",
              "      <td>73</td>\n",
              "      <td>21.15</td>\n",
              "      <td>27.88</td>\n",
              "      <td>74</td>\n",
              "      <td>36.94</td>\n",
              "      <td>53.15</td>\n",
              "    </tr>\n",
              "    <tr>\n",
              "      <th>1</th>\n",
              "      <td>ウルトラセブン杯</td>\n",
              "      <td>第7日</td>\n",
              "      <td>2022/1/1</td>\n",
              "      <td>大村</td>\n",
              "      <td>2R</td>\n",
              "      <td>2-1-6</td>\n",
              "      <td>12850</td>\n",
              "      <td>1-2-6</td>\n",
              "      <td>1780</td>\n",
              "      <td>2-1</td>\n",
              "      <td>...</td>\n",
              "      <td>49.44</td>\n",
              "      <td>5.57</td>\n",
              "      <td>39.710</td>\n",
              "      <td>52.21</td>\n",
              "      <td>31</td>\n",
              "      <td>27.05</td>\n",
              "      <td>44.26</td>\n",
              "      <td>22</td>\n",
              "      <td>24.53</td>\n",
              "      <td>42.45</td>\n",
              "    </tr>\n",
              "    <tr>\n",
              "      <th>2</th>\n",
              "      <td>ウルトラセブン杯</td>\n",
              "      <td>第7日</td>\n",
              "      <td>2022/1/1</td>\n",
              "      <td>大村</td>\n",
              "      <td>3R</td>\n",
              "      <td>1-2-3</td>\n",
              "      <td>870</td>\n",
              "      <td>1-2-3</td>\n",
              "      <td>470</td>\n",
              "      <td>1-2</td>\n",
              "      <td>...</td>\n",
              "      <td>4.93</td>\n",
              "      <td>1.71</td>\n",
              "      <td>0.005</td>\n",
              "      <td>0.88</td>\n",
              "      <td>15</td>\n",
              "      <td>25.00</td>\n",
              "      <td>37.50</td>\n",
              "      <td>69</td>\n",
              "      <td>37.93</td>\n",
              "      <td>53.45</td>\n",
              "    </tr>\n",
              "    <tr>\n",
              "      <th>3</th>\n",
              "      <td>ウルトラセブン杯</td>\n",
              "      <td>第7日</td>\n",
              "      <td>2022/1/1</td>\n",
              "      <td>大村</td>\n",
              "      <td>4R</td>\n",
              "      <td>1-3-4</td>\n",
              "      <td>1110</td>\n",
              "      <td>1-3-4</td>\n",
              "      <td>530</td>\n",
              "      <td>1-3</td>\n",
              "      <td>...</td>\n",
              "      <td>47.06</td>\n",
              "      <td>4.87</td>\n",
              "      <td>26.900</td>\n",
              "      <td>44.83</td>\n",
              "      <td>57</td>\n",
              "      <td>40.18</td>\n",
              "      <td>56.25</td>\n",
              "      <td>25</td>\n",
              "      <td>26.40</td>\n",
              "      <td>43.20</td>\n",
              "    </tr>\n",
              "    <tr>\n",
              "      <th>4</th>\n",
              "      <td>ウルトラセブン杯</td>\n",
              "      <td>第7日</td>\n",
              "      <td>2022/1/1</td>\n",
              "      <td>大村</td>\n",
              "      <td>5R</td>\n",
              "      <td>1-2-5</td>\n",
              "      <td>1220</td>\n",
              "      <td>1-2-5</td>\n",
              "      <td>790</td>\n",
              "      <td>1-2</td>\n",
              "      <td>...</td>\n",
              "      <td>54.21</td>\n",
              "      <td>6.19</td>\n",
              "      <td>41.090</td>\n",
              "      <td>63.37</td>\n",
              "      <td>39</td>\n",
              "      <td>33.90</td>\n",
              "      <td>48.31</td>\n",
              "      <td>28</td>\n",
              "      <td>24.78</td>\n",
              "      <td>42.48</td>\n",
              "    </tr>\n",
              "    <tr>\n",
              "      <th>...</th>\n",
              "      <td>...</td>\n",
              "      <td>...</td>\n",
              "      <td>...</td>\n",
              "      <td>...</td>\n",
              "      <td>...</td>\n",
              "      <td>...</td>\n",
              "      <td>...</td>\n",
              "      <td>...</td>\n",
              "      <td>...</td>\n",
              "      <td>...</td>\n",
              "      <td>...</td>\n",
              "      <td>...</td>\n",
              "      <td>...</td>\n",
              "      <td>...</td>\n",
              "      <td>...</td>\n",
              "      <td>...</td>\n",
              "      <td>...</td>\n",
              "      <td>...</td>\n",
              "      <td>...</td>\n",
              "      <td>...</td>\n",
              "      <td>...</td>\n",
              "    </tr>\n",
              "    <tr>\n",
              "      <th>439</th>\n",
              "      <td>第４８回日刊スポーツ栄光楯広島ダービー</td>\n",
              "      <td>第5日</td>\n",
              "      <td>2022/1/3</td>\n",
              "      <td>宮島</td>\n",
              "      <td>8R</td>\n",
              "      <td>1-5-3</td>\n",
              "      <td>2340</td>\n",
              "      <td>1-3-5</td>\n",
              "      <td>580</td>\n",
              "      <td>1-5</td>\n",
              "      <td>...</td>\n",
              "      <td>47.93</td>\n",
              "      <td>5.33</td>\n",
              "      <td>39.390</td>\n",
              "      <td>50.76</td>\n",
              "      <td>57</td>\n",
              "      <td>32.00</td>\n",
              "      <td>60.00</td>\n",
              "      <td>67</td>\n",
              "      <td>40.00</td>\n",
              "      <td>60.00</td>\n",
              "    </tr>\n",
              "    <tr>\n",
              "      <th>440</th>\n",
              "      <td>第４８回日刊スポーツ栄光楯広島ダービー</td>\n",
              "      <td>第5日</td>\n",
              "      <td>2022/1/3</td>\n",
              "      <td>宮島</td>\n",
              "      <td>9R</td>\n",
              "      <td>5-1-6</td>\n",
              "      <td>22820</td>\n",
              "      <td>1-5-6</td>\n",
              "      <td>4510</td>\n",
              "      <td>5-1</td>\n",
              "      <td>...</td>\n",
              "      <td>0.76</td>\n",
              "      <td>1.67</td>\n",
              "      <td>0.000</td>\n",
              "      <td>0.00</td>\n",
              "      <td>52</td>\n",
              "      <td>32.43</td>\n",
              "      <td>40.54</td>\n",
              "      <td>43</td>\n",
              "      <td>36.11</td>\n",
              "      <td>47.22</td>\n",
              "    </tr>\n",
              "    <tr>\n",
              "      <th>441</th>\n",
              "      <td>第４８回日刊スポーツ栄光楯広島ダービー</td>\n",
              "      <td>第5日</td>\n",
              "      <td>2022/1/3</td>\n",
              "      <td>宮島</td>\n",
              "      <td>10R</td>\n",
              "      <td>1-3-4</td>\n",
              "      <td>740</td>\n",
              "      <td>1-3-4</td>\n",
              "      <td>340</td>\n",
              "      <td>1-3</td>\n",
              "      <td>...</td>\n",
              "      <td>38.02</td>\n",
              "      <td>4.85</td>\n",
              "      <td>26.980</td>\n",
              "      <td>47.62</td>\n",
              "      <td>69</td>\n",
              "      <td>30.00</td>\n",
              "      <td>60.00</td>\n",
              "      <td>22</td>\n",
              "      <td>25.00</td>\n",
              "      <td>50.00</td>\n",
              "    </tr>\n",
              "    <tr>\n",
              "      <th>442</th>\n",
              "      <td>第４８回日刊スポーツ栄光楯広島ダービー</td>\n",
              "      <td>第5日</td>\n",
              "      <td>2022/1/3</td>\n",
              "      <td>宮島</td>\n",
              "      <td>11R</td>\n",
              "      <td>1-4-2</td>\n",
              "      <td>810</td>\n",
              "      <td>1-2-4</td>\n",
              "      <td>320</td>\n",
              "      <td>1-4</td>\n",
              "      <td>...</td>\n",
              "      <td>60.53</td>\n",
              "      <td>5.97</td>\n",
              "      <td>40.170</td>\n",
              "      <td>58.97</td>\n",
              "      <td>29</td>\n",
              "      <td>24.14</td>\n",
              "      <td>34.48</td>\n",
              "      <td>37</td>\n",
              "      <td>70.97</td>\n",
              "      <td>77.42</td>\n",
              "    </tr>\n",
              "    <tr>\n",
              "      <th>443</th>\n",
              "      <td>第４８回日刊スポーツ栄光楯広島ダービー</td>\n",
              "      <td>第5日</td>\n",
              "      <td>2022/1/3</td>\n",
              "      <td>宮島</td>\n",
              "      <td>12R</td>\n",
              "      <td>1-4-2</td>\n",
              "      <td>1830</td>\n",
              "      <td>1-2-4</td>\n",
              "      <td>470</td>\n",
              "      <td>1-4</td>\n",
              "      <td>...</td>\n",
              "      <td>39.47</td>\n",
              "      <td>4.75</td>\n",
              "      <td>24.710</td>\n",
              "      <td>45.88</td>\n",
              "      <td>59</td>\n",
              "      <td>31.58</td>\n",
              "      <td>47.37</td>\n",
              "      <td>49</td>\n",
              "      <td>21.43</td>\n",
              "      <td>46.43</td>\n",
              "    </tr>\n",
              "  </tbody>\n",
              "</table>\n",
              "<p>444 rows × 127 columns</p>\n",
              "</div>"
            ],
            "text/plain": [
              "                    タイトル   日次      レース日 レース場 レース回 3連単_組番  3連単_払戻金 3連複_組番  \\\n",
              "0               ウルトラセブン杯  第7日  2022/1/1   大村   1R  1-5-3     5460  1-3-5   \n",
              "1               ウルトラセブン杯  第7日  2022/1/1   大村   2R  2-1-6    12850  1-2-6   \n",
              "2               ウルトラセブン杯  第7日  2022/1/1   大村   3R  1-2-3      870  1-2-3   \n",
              "3               ウルトラセブン杯  第7日  2022/1/1   大村   4R  1-3-4     1110  1-3-4   \n",
              "4               ウルトラセブン杯  第7日  2022/1/1   大村   5R  1-2-5     1220  1-2-5   \n",
              "..                   ...  ...       ...  ...  ...    ...      ...    ...   \n",
              "439  第４８回日刊スポーツ栄光楯広島ダービー  第5日  2022/1/3   宮島   8R  1-5-3     2340  1-3-5   \n",
              "440  第４８回日刊スポーツ栄光楯広島ダービー  第5日  2022/1/3   宮島   9R  5-1-6    22820  1-5-6   \n",
              "441  第４８回日刊スポーツ栄光楯広島ダービー  第5日  2022/1/3   宮島  10R  1-3-4      740  1-3-4   \n",
              "442  第４８回日刊スポーツ栄光楯広島ダービー  第5日  2022/1/3   宮島  11R  1-4-2      810  1-2-4   \n",
              "443  第４８回日刊スポーツ栄光楯広島ダービー  第5日  2022/1/3   宮島  12R  1-4-2     1830  1-2-4   \n",
              "\n",
              "     3連複_払戻金 2連単_組番  ...  全国3連率_6 当地勝率_6  当地2連率_6 当地3連率_6  モーター番号_6 モーター2連率_6  \\\n",
              "0       1130    1-5  ...    46.15   4.63   26.490   43.05        73     21.15   \n",
              "1       1780    2-1  ...    49.44   5.57   39.710   52.21        31     27.05   \n",
              "2        470    1-2  ...     4.93   1.71    0.005    0.88        15     25.00   \n",
              "3        530    1-3  ...    47.06   4.87   26.900   44.83        57     40.18   \n",
              "4        790    1-2  ...    54.21   6.19   41.090   63.37        39     33.90   \n",
              "..       ...    ...  ...      ...    ...      ...     ...       ...       ...   \n",
              "439      580    1-5  ...    47.93   5.33   39.390   50.76        57     32.00   \n",
              "440     4510    5-1  ...     0.76   1.67    0.000    0.00        52     32.43   \n",
              "441      340    1-3  ...    38.02   4.85   26.980   47.62        69     30.00   \n",
              "442      320    1-4  ...    60.53   5.97   40.170   58.97        29     24.14   \n",
              "443      470    1-4  ...    39.47   4.75   24.710   45.88        59     31.58   \n",
              "\n",
              "     モーター3連率_6  モーター番号_6.1  モーター2連率_6.1 モーター3連率_6.1  \n",
              "0        27.88          74        36.94       53.15  \n",
              "1        44.26          22        24.53       42.45  \n",
              "2        37.50          69        37.93       53.45  \n",
              "3        56.25          25        26.40       43.20  \n",
              "4        48.31          28        24.78       42.48  \n",
              "..         ...         ...          ...         ...  \n",
              "439      60.00          67        40.00       60.00  \n",
              "440      40.54          43        36.11       47.22  \n",
              "441      60.00          22        25.00       50.00  \n",
              "442      34.48          37        70.97       77.42  \n",
              "443      47.37          49        21.43       46.43  \n",
              "\n",
              "[444 rows x 127 columns]"
            ]
          },
          "execution_count": 13,
          "metadata": {},
          "output_type": "execute_result"
        }
      ],
      "source": [
        "df"
      ]
    },
    {
      "cell_type": "code",
      "execution_count": 14,
      "metadata": {
        "id": "csTDMkumQhgQ"
      },
      "outputs": [],
      "source": [
        "df = df.replace('.000.',0)\n",
        "df = df.replace('.697.', 0.697)\n",
        "df = df.replace('.139.', 0.139)\n",
        "df = df.replace('-', 0.)"
      ]
    },
    {
      "cell_type": "code",
      "execution_count": 15,
      "metadata": {
        "id": "LM4MQTEIYjEk"
      },
      "outputs": [],
      "source": [
        "# 1.DataFrameを説明変数と目的変数に分ける\n",
        "x = df[[\n",
        "        \"全国勝率_1\",\n",
        "        \"当地勝率_1\",\n",
        "        \"モーター2連率_1\",\n",
        "        \"スタートタイム_1\",\n",
        "        \"全国勝率_2\",\n",
        "        \"当地勝率_2\",\n",
        "        \"モーター2連率_2\",\n",
        "        \"スタートタイム_2\",\n",
        "        \"全国勝率_3\",\n",
        "        \"当地勝率_3\",\n",
        "        \"モーター2連率_3\",\n",
        "        \"スタートタイム_3\",\n",
        "        \"全国勝率_4\",\n",
        "        \"当地勝率_4\",\n",
        "        \"モーター2連率_4\",\n",
        "        \"スタートタイム_4\",\n",
        "        \"全国勝率_5\",\n",
        "        \"当地勝率_5\",\n",
        "        \"スタートタイム_5\",\n",
        "        \"モーター2連率_5\",\n",
        "        \"全国勝率_6\",\n",
        "        \"当地勝率_6\",\n",
        "        \"スタートタイム_6\",\n",
        "        \"モーター2連率_6\",\n",
        "        ]]\n",
        "t = df[[\"2連単_組番\"]]"
      ]
    },
    {
      "cell_type": "code",
      "execution_count": 16,
      "metadata": {
        "colab": {
          "base_uri": "https://localhost:8080/",
          "height": 424
        },
        "id": "i976g9zvls0W",
        "outputId": "7b7ddebe-3e18-4048-bfcd-f0119773de50"
      },
      "outputs": [
        {
          "data": {
            "text/html": [
              "<div>\n",
              "<style scoped>\n",
              "    .dataframe tbody tr th:only-of-type {\n",
              "        vertical-align: middle;\n",
              "    }\n",
              "\n",
              "    .dataframe tbody tr th {\n",
              "        vertical-align: top;\n",
              "    }\n",
              "\n",
              "    .dataframe thead th {\n",
              "        text-align: right;\n",
              "    }\n",
              "</style>\n",
              "<table border=\"1\" class=\"dataframe\">\n",
              "  <thead>\n",
              "    <tr style=\"text-align: right;\">\n",
              "      <th></th>\n",
              "      <th>2連単_組番</th>\n",
              "    </tr>\n",
              "  </thead>\n",
              "  <tbody>\n",
              "    <tr>\n",
              "      <th>0</th>\n",
              "      <td>1-5</td>\n",
              "    </tr>\n",
              "    <tr>\n",
              "      <th>1</th>\n",
              "      <td>2-1</td>\n",
              "    </tr>\n",
              "    <tr>\n",
              "      <th>2</th>\n",
              "      <td>1-2</td>\n",
              "    </tr>\n",
              "    <tr>\n",
              "      <th>3</th>\n",
              "      <td>1-3</td>\n",
              "    </tr>\n",
              "    <tr>\n",
              "      <th>4</th>\n",
              "      <td>1-2</td>\n",
              "    </tr>\n",
              "    <tr>\n",
              "      <th>...</th>\n",
              "      <td>...</td>\n",
              "    </tr>\n",
              "    <tr>\n",
              "      <th>439</th>\n",
              "      <td>1-5</td>\n",
              "    </tr>\n",
              "    <tr>\n",
              "      <th>440</th>\n",
              "      <td>5-1</td>\n",
              "    </tr>\n",
              "    <tr>\n",
              "      <th>441</th>\n",
              "      <td>1-3</td>\n",
              "    </tr>\n",
              "    <tr>\n",
              "      <th>442</th>\n",
              "      <td>1-4</td>\n",
              "    </tr>\n",
              "    <tr>\n",
              "      <th>443</th>\n",
              "      <td>1-4</td>\n",
              "    </tr>\n",
              "  </tbody>\n",
              "</table>\n",
              "<p>444 rows × 1 columns</p>\n",
              "</div>"
            ],
            "text/plain": [
              "    2連単_組番\n",
              "0      1-5\n",
              "1      2-1\n",
              "2      1-2\n",
              "3      1-3\n",
              "4      1-2\n",
              "..     ...\n",
              "439    1-5\n",
              "440    5-1\n",
              "441    1-3\n",
              "442    1-4\n",
              "443    1-4\n",
              "\n",
              "[444 rows x 1 columns]"
            ]
          },
          "execution_count": 16,
          "metadata": {},
          "output_type": "execute_result"
        }
      ],
      "source": [
        "t"
      ]
    },
    {
      "cell_type": "code",
      "execution_count": 17,
      "metadata": {
        "id": "TyFdAuTEXktv"
      },
      "outputs": [],
      "source": [
        "t = pd.get_dummies(df[[\"2連単_組番\"]])"
      ]
    },
    {
      "cell_type": "code",
      "execution_count": 18,
      "metadata": {
        "colab": {
          "base_uri": "https://localhost:8080/"
        },
        "id": "aGehA8urlvhi",
        "outputId": "53085f10-a8e5-4246-9c88-9863c8c50908"
      },
      "outputs": [
        {
          "name": "stdout",
          "output_type": "stream",
          "text": [
            "Index(['2連単_組番_1-2', '2連単_組番_1-3', '2連単_組番_1-4', '2連単_組番_1-5', '2連単_組番_1-6',\n",
            "       '2連単_組番_2-1', '2連単_組番_2-3', '2連単_組番_2-4', '2連単_組番_2-5', '2連単_組番_2-6',\n",
            "       '2連単_組番_3-1', '2連単_組番_3-2', '2連単_組番_3-4', '2連単_組番_3-5', '2連単_組番_3-6',\n",
            "       '2連単_組番_4-1', '2連単_組番_4-2', '2連単_組番_4-3', '2連単_組番_4-5', '2連単_組番_4-6',\n",
            "       '2連単_組番_5-1', '2連単_組番_5-2', '2連単_組番_5-3', '2連単_組番_5-4', '2連単_組番_5-6',\n",
            "       '2連単_組番_6-1', '2連単_組番_6-2', '2連単_組番_6-3', '2連単_組番_6-4', '2連単_組番_6-5'],\n",
            "      dtype='object')\n"
          ]
        }
      ],
      "source": [
        "# 列名を取得する\n",
        "headers = t.columns\n",
        "print(headers)"
      ]
    },
    {
      "cell_type": "code",
      "execution_count": 19,
      "metadata": {
        "id": "ehVkzlZDYDBS"
      },
      "outputs": [],
      "source": [
        "# 2.DataFrameをnarrayに変換\n",
        "x = x.to_numpy().astype(\"float32\")\n",
        "t = t.to_numpy().astype(\"float32\")\n",
        "\n",
        "# 3.ndarrayをTensorに変換\n",
        "x = torch.from_numpy(x).to(device)\n",
        "t = torch.from_numpy(t).to(device)\n",
        "\n",
        "# 4.TensorからDatasetを作成\n",
        "dataset = torch.utils.data.TensorDataset(x, t)\n",
        "\n",
        "# 5.学習用データとテスト用データに分ける\n",
        "r = 0.9\n",
        "train_dataset, test_dataset = torch.utils.data.random_split(dataset, [r,1-r])\n",
        "\n",
        "# 6.DataLoaderに変換\n",
        "batch_size = 20\n",
        "train_loader = DataLoader(train_dataset, batch_size=batch_size, shuffle=True)\n",
        "test_loader = DataLoader(test_dataset, batch_size=len(test_dataset), shuffle=False)"
      ]
    },
    {
      "cell_type": "code",
      "execution_count": 20,
      "metadata": {
        "id": "HNGE7bnCYGui"
      },
      "outputs": [],
      "source": [
        "class Net(nn.Module):\n",
        "    def __init__(self):\n",
        "        super().__init__()\n",
        "\n",
        "        # 全結合層を6つに増やす\n",
        "        self.fc1 = nn.Linear(24, 32)\n",
        "        self.dropout1 = nn.Dropout(0.3)  # ドロップアウトを追加\n",
        "        self.fc2 = nn.Linear(32, 64)\n",
        "        self.dropout2 = nn.Dropout(0.3)  # ドロップアウトを追加\n",
        "        self.fc3 = nn.Linear(64, 64)\n",
        "        self.dropout3 = nn.Dropout(0.3)  # ドロップアウトを追加\n",
        "        self.fc4 = nn.Linear(64, 64)\n",
        "        self.dropout4 = nn.Dropout(0.3)  # ドロップアウトを追加\n",
        "        self.fc5 = nn.Linear(64, 32)\n",
        "        self.dropout5 = nn.Dropout(0.3)  # ドロップアウトを追加\n",
        "        self.fc6 = nn.Linear(32, 30)\n",
        "\n",
        "        # 損失関数と最適化関数\n",
        "        self.criterion = nn.CrossEntropyLoss()\n",
        "        self.criterion_2 = nn.HingeEmbeddingLoss()\n",
        "        self.optimizer = optim.Adam(self.parameters())\n",
        "\n",
        "    def forward(self, x):\n",
        "        x = self.fc1(x)\n",
        "        x = F.relu(x)\n",
        "        x = self.dropout1(x)  # ドロップアウトを適用\n",
        "        x = self.fc2(x)\n",
        "        x = F.relu(x)\n",
        "        x = self.dropout2(x)  # ドロップアウトを適用\n",
        "        x = self.fc3(x)\n",
        "        x = F.relu(x)\n",
        "        x = self.dropout3(x)  # ドロップアウトを適用\n",
        "        x = self.fc4(x)\n",
        "        x = F.relu(x)\n",
        "        x = self.dropout4(x)  # ドロップアウトを適用\n",
        "        x = self.fc5(x)\n",
        "        x = F.relu(x)\n",
        "        x = self.dropout5(x)  # ドロップアウトを適用\n",
        "        x = self.fc6(x)\n",
        "        return x"
      ]
    },
    {
      "cell_type": "code",
      "execution_count": 21,
      "metadata": {
        "id": "j2mJ2kl1YJ3u"
      },
      "outputs": [],
      "source": [
        "def train(model, data_loader):\n",
        "    # 今は学習時であることを明示するコード\n",
        "    model.train()\n",
        "\n",
        "    # 正しい予測数、全体のデータ数を数えるカウンターの0初期化\n",
        "    total_correct = 0\n",
        "    total_data_len = 0\n",
        "\n",
        "    loss_mean = 0\n",
        "\n",
        "    # ミニバッチごとにループさせる,train_loaderの中身を出し切ったら1エポックとなる\n",
        "    for j, (x, t) in enumerate(data_loader):\n",
        "        y = model(x)  # 順伝播\n",
        "\n",
        "        model.optimizer.zero_grad()  # 勾配を初期化（前回のループ時の勾配を削除）\n",
        "        loss = model.criterion(y, t) + (model.criterion_2(y, t))/5# 損失を計算\n",
        "        loss.backward()  # 逆伝播で勾配を計算\n",
        "        model.optimizer.step()  # 最適化\n",
        "\n",
        "        loss_mean += loss.item()\n",
        "\n",
        "        # ミニバッチごとの正答率と損失を求める\n",
        "        _, index_y = torch.max(y, axis=1)  # 最も確率が高いと予測したindex\n",
        "        _, index_t = torch.max(t, axis=1)  # 正解のindex\n",
        "        for i in range(len(t)):  # データ一つずつループ,ミニバッチの中身出しきるまで\n",
        "            total_data_len += 1  # 全データ数を集計\n",
        "            if index_y[i] == index_t[i]:\n",
        "                total_correct += 1 # 正解のデータ数を集計\n",
        "\n",
        "    loss_mean = loss_mean / (j+1)\n",
        "\n",
        "    return total_correct, total_data_len, loss_mean\n"
      ]
    },
    {
      "cell_type": "code",
      "execution_count": 22,
      "metadata": {
        "id": "_XdmXLKdYMHL"
      },
      "outputs": [],
      "source": [
        "def test(model, data_loader):\n",
        "    # モデルを評価モードにする\n",
        "    model.eval()\n",
        "\n",
        "    # 正しい予測数、全体のデータ数を数えるカウンターの0初期化\n",
        "    total_data_len = 0\n",
        "    total_correct = 0\n",
        "\n",
        "    loss_mean = 0\n",
        "\n",
        "    for j, (x, t) in enumerate(data_loader):\n",
        "        y = model(x)  # 順伝播（=予測）\n",
        "        loss = model.criterion(y, t)  # 損失を計算\n",
        "        loss_mean += loss.item()\n",
        "\n",
        "        # ミニバッチごとの正答率と損失を求める\n",
        "        _, index_y = torch.max(y, axis=1)  # 最も確率が高いと予測したindex\n",
        "        _, index_t = torch.max(t, axis=1)  # 正解のindex\n",
        "        for i in range(len(t)):  # データ一つずつループ,ミニバッチの中身出しきるまで\n",
        "            total_data_len += 1  # 全データ数を集計\n",
        "            if index_y[i] == index_t[i]:\n",
        "                total_correct += 1 # 正解のデータ数を集計\n",
        "\n",
        "    loss_mean = loss_mean / (j+1)\n",
        "\n",
        "    return total_correct, total_data_len, loss_mean\n"
      ]
    },
    {
      "cell_type": "code",
      "execution_count": 23,
      "metadata": {
        "colab": {
          "base_uri": "https://localhost:8080/"
        },
        "id": "wkv2LpoRYNzB",
        "outputId": "9ee6684a-1a8a-423b-d65a-c9e0ee65a058"
      },
      "outputs": [
        {
          "name": "stdout",
          "output_type": "stream",
          "text": [
            "epoch=0, train:9/400(2.25%), 3.68015, test:2/44(4.55%), 3.39646\n",
            "epoch=10, train:58/400(14.50%), 3.15792, test:8/44(18.18%), 2.98672\n",
            "epoch=20, train:60/400(15.00%), 3.12341, test:8/44(18.18%), 2.98134\n",
            "epoch=30, train:73/400(18.25%), 3.07554, test:8/44(18.18%), 2.93893\n"
          ]
        }
      ],
      "source": [
        "# アーキテクチャのインスタンス作成\n",
        "model = Net().to(device)\n",
        "\n",
        "epochs = 40\n",
        "record_train_loss = []\n",
        "record_test_loss = []\n",
        "for epoch in range(epochs):\n",
        "    train_correct_len, train_data_len, train_loss = train(model, train_loader)\n",
        "    test_correct_len, test_data_len, test_loss = test(model, test_loader)\n",
        "\n",
        "    train_acc = train_correct_len/train_data_len*100\n",
        "    test_acc = test_correct_len/test_data_len*100\n",
        "\n",
        "    record_train_loss.append(train_loss)\n",
        "    record_test_loss.append(test_loss)\n",
        "\n",
        "    if epoch%10 == 0:\n",
        "        print(f\"epoch={epoch}, train:{train_correct_len}/{train_data_len}({train_acc:.2f}%), {train_loss:.5f}, test:{test_correct_len}/{test_data_len}({test_acc:.2f}%), {test_loss:.5f}\")\n"
      ]
    },
    {
      "cell_type": "code",
      "execution_count": 24,
      "metadata": {
        "colab": {
          "base_uri": "https://localhost:8080/",
          "height": 455
        },
        "id": "V-3DJaN_YQBr",
        "outputId": "31e726d1-2fc5-49b5-92b4-5dc99d7d6bda"
      },
      "outputs": [
        {
          "data": {
            "image/png": "[encoded data removed]",
            "text/plain": [
              "<Figure size 432x288 with 1 Axes>"
            ]
          },
          "metadata": {
            "needs_background": "light"
          },
          "output_type": "display_data"
        }
      ],
      "source": [
        "plt.plot(range(len(record_train_loss)), record_train_loss, label=\"Train\")\n",
        "plt.plot(range(len(record_test_loss)), record_test_loss, label=\"Test\")\n",
        "plt.legend()\n",
        "\n",
        "plt.ylim(0,10)\n",
        "plt.xlabel(\"Epochs\")\n",
        "plt.ylabel(\"Error\")\n",
        "plt.show()"
      ]
    },
    {
      "cell_type": "code",
      "execution_count": null,
      "metadata": {
        "colab": {
          "base_uri": "https://localhost:8080/"
        },
        "id": "3Yb2hfWKW6W2",
        "outputId": "1885bcd4-97ec-4b6e-af64-ed09fa9d6ca5"
      },
      "outputs": [
        {
          "data": {
            "text/plain": [
              "tensor([1., 0., 0., 0., 0., 0., 0., 0., 0., 0., 0., 0., 0., 0., 0., 0., 0., 0.,\n",
              "        0., 0., 0., 0., 0., 0., 0., 0., 0., 0., 0., 0.], device='cuda:0')"
            ]
          },
          "execution_count": 81,
          "metadata": {},
          "output_type": "execute_result"
        }
      ],
      "source": [
        "test_dataset[0][0]\n",
        "test_dataset[0][1]"
      ]
    },
    {
      "cell_type": "code",
      "execution_count": null,
      "metadata": {
        "id": "wN4IkgQRmxNN"
      },
      "outputs": [],
      "source": [
        "import csv"
      ]
    },
    {
      "cell_type": "code",
      "execution_count": null,
      "metadata": {
        "id": "UJyicQAZgNEu"
      },
      "outputs": [],
      "source": [
        "csv_path = \"pread_AI.csv\"\n",
        "headers = ','.join(t.columns.to_list())\n",
        "with open(csv_path, \"w\", encoding=\"utf_8\") as csv_file:\n",
        "    csv_file.write(headers + '\\n')\n",
        "\n",
        "for data_raw in dataset:\n",
        "    data = torch.Tensor(data_raw[0]).to(device)\n",
        "    pred = model(data)\n",
        "    pred = F.softmax(pred, dim=0)\n",
        "    pred_list = pred.tolist()\n",
        "\n",
        "    with open(csv_path, 'a') as file:\n",
        "        writer = csv.writer(file)\n",
        "        writer.writerow(pred_list)"
      ]
    },
    {
      "cell_type": "code",
      "execution_count": null,
      "metadata": {
        "colab": {
          "base_uri": "https://localhost:8080/"
        },
        "id": "Ekv9zfTDbHCG",
        "outputId": "766c2ac0-92c5-4fa2-e3c2-e9974286193e"
      },
      "outputs": [
        {
          "data": {
            "text/plain": [
              "tensor([0.1814, 0.1294, 0.1325, 0.0676, 0.0469, 0.0706, 0.0253, 0.0242, 0.0118,\n",
              "        0.0141, 0.0542, 0.0206, 0.0267, 0.0120, 0.0116, 0.0313, 0.0111, 0.0128,\n",
              "        0.0110, 0.0158, 0.0210, 0.0071, 0.0068, 0.0044, 0.0074, 0.0263, 0.0032,\n",
              "        0.0022, 0.0040, 0.0069], device='cuda:0', grad_fn=<SoftmaxBackward0>)"
            ]
          },
          "execution_count": 160,
          "metadata": {},
          "output_type": "execute_result"
        }
      ],
      "source": [
        "pred"
      ]
    },
    {
      "cell_type": "code",
      "execution_count": null,
      "metadata": {
        "id": "d03ppwH0VVc9"
      },
      "outputs": [],
      "source": [
        "data = torch.Tensor(test_dataset[23][0]).to(device)\n",
        "pred = model(data)\n",
        "pred = F.softmax(pred,dim=0)"
      ]
    },
    {
      "cell_type": "code",
      "execution_count": null,
      "metadata": {
        "colab": {
          "base_uri": "https://localhost:8080/"
        },
        "id": "QZNorYAjXE5u",
        "outputId": "e36c5347-a3f2-4244-a5f2-46fc4d272bab"
      },
      "outputs": [
        {
          "data": {
            "text/plain": [
              "tensor([0.0998, 0.0865, 0.0766, 0.0552, 0.0449, 0.0607, 0.0346, 0.0281, 0.0228,\n",
              "        0.0239, 0.0526, 0.0304, 0.0303, 0.0209, 0.0230, 0.0382, 0.0221, 0.0248,\n",
              "        0.0216, 0.0242, 0.0291, 0.0174, 0.0171, 0.0120, 0.0177, 0.0327, 0.0114,\n",
              "        0.0105, 0.0134, 0.0174], device='cuda:0', grad_fn=<SoftmaxBackward0>)"
            ]
          },
          "execution_count": 154,
          "metadata": {},
          "output_type": "execute_result"
        }
      ],
      "source": [
        "pred"
      ]
    },
    {
      "cell_type": "code",
      "execution_count": null,
      "metadata": {
        "colab": {
          "base_uri": "https://localhost:8080/",
          "height": 430
        },
        "id": "qijc8_WnY0wZ",
        "outputId": "d6c53911-ca35-4a47-a371-c8a62160bdce"
      },
      "outputs": [
        {
          "data": {
            "image/png": "[encoded data removed]",
            "text/plain": [
              "<Figure size 640x480 with 1 Axes>"
            ]
          },
          "metadata": {},
          "output_type": "display_data"
        }
      ],
      "source": [
        "ls1 = pred.tolist()\n",
        "plt.plot(ls1)\n",
        "plt.show()"
      ]
    },
    {
      "cell_type": "code",
      "execution_count": null,
      "metadata": {
        "colab": {
          "base_uri": "https://localhost:8080/",
          "height": 135
        },
        "id": "jf7LGFyW19L_",
        "outputId": "6b58ed51-ff99-4306-8124-3ea4b157a3c6"
      },
      "outputs": [
        {
          "ename": "SyntaxError",
          "evalue": "ignored",
          "output_type": "error",
          "traceback": [
            "\u001b[0;36m  File \u001b[0;32m\"<ipython-input-54-8bbe4db9f8a4>\"\u001b[0;36m, line \u001b[0;32m1\u001b[0m\n\u001b[0;31m    plt.xlim(0,5)plt.xlim(0,5)\u001b[0m\n\u001b[0m                 ^\u001b[0m\n\u001b[0;31mSyntaxError\u001b[0m\u001b[0;31m:\u001b[0m invalid syntax\n"
          ]
        }
      ],
      "source": [
        "plt.xlim(0,5)plt.xlim(0,5)"
      ]
    },
    {
      "attachments": {},
      "cell_type": "markdown",
      "metadata": {
        "id": "V-zmfyNZ19mx"
      },
      "source": [
        "# 以下、XBNETの試行錯誤"
      ]
    },
    {
      "cell_type": "code",
      "execution_count": null,
      "metadata": {
        "colab": {
          "base_uri": "https://localhost:8080/"
        },
        "id": "j6nR0xiLYSe3",
        "outputId": "5d8ff0b4-328a-4adb-9b73-5a65cf545d28"
      },
      "outputs": [
        {
          "name": "stdout",
          "output_type": "stream",
          "text": [
            "setosa : 0.99995\n",
            "versicolor : 0.00005\n",
            "virginica : 0.00000\n"
          ]
        }
      ],
      "source": [
        "data = torch.Tensor([5.1,3.5,1.4,0.2]).to(device)\n",
        "pred = model(data)\n",
        "pred = F.softmax(pred,dim=0)\n",
        "\n",
        "for target,probability in zip(pd.unique(df[\"target\"]),pred):\n",
        "    print(f\"{target} : {probability.item():.5f}\")\n"
      ]
    },
    {
      "cell_type": "code",
      "execution_count": null,
      "metadata": {
        "colab": {
          "base_uri": "https://localhost:8080/"
        },
        "id": "AmZHlLf-YU_T",
        "outputId": "204003ff-5ffe-4169-a559-c36b53071742"
      },
      "outputs": [
        {
          "name": "stdout",
          "output_type": "stream",
          "text": [
            "Looking in indexes: https://pypi.org/simple, https://us-python.pkg.dev/colab-wheels/public/simple/\n",
            "Collecting git+https://github.com/tusharsarkar3/XBNet.git\n",
            "  Cloning https://github.com/tusharsarkar3/XBNet.git to /tmp/pip-req-build-nz2txk55\n",
            "  Running command git clone --filter=blob:none --quiet https://github.com/tusharsarkar3/XBNet.git /tmp/pip-req-build-nz2txk55\n",
            "  Resolved https://github.com/tusharsarkar3/XBNet.git to commit 2b771d6beb9f15ae48e2a365f46d6f996811086f\n",
            "  Preparing metadata (setup.py) ... \u001b[?25l\u001b[?25hdone\n",
            "Collecting sklearn==0.0 (from XBNet==1.4.6)\n",
            "  Downloading sklearn-0.0.tar.gz (1.1 kB)\n",
            "  Preparing metadata (setup.py) ... \u001b[?25l\u001b[?25hdone\n",
            "Collecting numpy==1.22.0 (from XBNet==1.4.6)\n",
            "  Downloading numpy-1.22.0-cp310-cp310-manylinux_2_17_x86_64.manylinux2014_x86_64.whl (16.8 MB)\n",
            "\u001b[2K     \u001b[90m━━━━━━━━━━━━━━━━━━━━━━━━━━━━━━━━━━━━━━━━\u001b[0m \u001b[32m16.8/16.8 MB\u001b[0m \u001b[31m32.0 MB/s\u001b[0m eta \u001b[36m0:00:00\u001b[0m\n",
            "\u001b[?25hCollecting pandas==1.3.3 (from XBNet==1.4.6)\n",
            "  Downloading pandas-1.3.3-cp310-cp310-manylinux_2_17_x86_64.manylinux2014_x86_64.whl (11.5 MB)\n",
            "\u001b[2K     \u001b[90m━━━━━━━━━━━━━━━━━━━━━━━━━━━━━━━━━━━━━━━\u001b[0m \u001b[32m11.5/11.5 MB\u001b[0m \u001b[31m106.9 MB/s\u001b[0m eta \u001b[36m0:00:00\u001b[0m\n",
            "\u001b[?25hCollecting matplotlib==3.4.3 (from XBNet==1.4.6)\n",
            "  Downloading matplotlib-3.4.3.tar.gz (37.9 MB)\n",
            "\u001b[2K     \u001b[90m━━━━━━━━━━━━━━━━━━━━━━━━━━━━━━━━━━━━━━━━\u001b[0m \u001b[32m37.9/37.9 MB\u001b[0m \u001b[31m13.6 MB/s\u001b[0m eta \u001b[36m0:00:00\u001b[0m\n",
            "\u001b[?25h  Preparing metadata (setup.py) ... \u001b[?25l\u001b[?25hdone\n",
            "INFO: pip is looking at multiple versions of xbnet to determine which version is compatible with other requirements. This could take a while.\n",
            "\u001b[31mERROR: Could not find a version that satisfies the requirement torch==1.9.0 (from xbnet) (from versions: 1.11.0, 1.12.0, 1.12.1, 1.13.0, 1.13.1, 2.0.0, 2.0.1)\u001b[0m\u001b[31m\n",
            "\u001b[0m\u001b[31mERROR: No matching distribution found for torch==1.9.0\u001b[0m\u001b[31m\n",
            "\u001b[0m"
          ]
        }
      ],
      "source": [
        "pip install --upgrade git+https://github.com/tusharsarkar3/XBNet.git"
      ]
    },
    {
      "cell_type": "code",
      "execution_count": null,
      "metadata": {
        "colab": {
          "base_uri": "https://localhost:8080/",
          "height": 1000
        },
        "id": "vwlWtlNZm5U6",
        "outputId": "a6996997-2d05-4e57-bb9c-9dad2fe20139"
      },
      "outputs": [
        {
          "name": "stdout",
          "output_type": "stream",
          "text": [
            "Found existing installation: torch 2.0.1+cu118\n",
            "Uninstalling torch-2.0.1+cu118:\n",
            "  Successfully uninstalled torch-2.0.1+cu118\n",
            "Looking in indexes: https://pypi.org/simple, https://us-python.pkg.dev/colab-wheels/public/simple/\n",
            "Looking in links: https://download.pytorch.org/whl/torch_stable.html\n",
            "\u001b[31mERROR: Could not find a version that satisfies the requirement torch==1.9.0+cu111 (from versions: 1.11.0, 1.11.0+cpu, 1.11.0+cu102, 1.11.0+cu113, 1.11.0+cu115, 1.11.0+rocm4.3.1, 1.11.0+rocm4.5.2, 1.12.0, 1.12.0+cpu, 1.12.0+cu102, 1.12.0+cu113, 1.12.0+cu116, 1.12.0+rocm5.0, 1.12.0+rocm5.1.1, 1.12.1, 1.12.1+cpu, 1.12.1+cu102, 1.12.1+cu113, 1.12.1+cu116, 1.12.1+rocm5.0, 1.12.1+rocm5.1.1, 1.13.0, 1.13.0+cpu, 1.13.0+cu116, 1.13.0+cu117, 1.13.0+cu117.with.pypi.cudnn, 1.13.0+rocm5.1.1, 1.13.0+rocm5.2, 1.13.1, 1.13.1+cpu, 1.13.1+cu116, 1.13.1+cu117, 1.13.1+cu117.with.pypi.cudnn, 1.13.1+rocm5.1.1, 1.13.1+rocm5.2, 2.0.0, 2.0.0+cpu, 2.0.0+cpu.cxx11.abi, 2.0.0+cu117, 2.0.0+cu117.with.pypi.cudnn, 2.0.0+cu118, 2.0.0+rocm5.3, 2.0.0+rocm5.4.2, 2.0.1, 2.0.1+cpu, 2.0.1+cpu.cxx11.abi, 2.0.1+cu117, 2.0.1+cu117.with.pypi.cudnn, 2.0.1+cu118, 2.0.1+rocm5.3, 2.0.1+rocm5.4.2)\u001b[0m\u001b[31m\n",
            "\u001b[0m\u001b[31mERROR: No matching distribution found for torch==1.9.0+cu111\u001b[0m\u001b[31m\n",
            "\u001b[0mLooking in indexes: https://pypi.org/simple, https://us-python.pkg.dev/colab-wheels/public/simple/\n",
            "Requirement already satisfied: einops in /usr/local/lib/python3.10/dist-packages (0.6.1)\n",
            "Requirement already satisfied: timm in /usr/local/lib/python3.10/dist-packages (0.9.2)\n",
            "Requirement already satisfied: moviepy in /usr/local/lib/python3.10/dist-packages (1.0.3)\n",
            "Collecting torch>=1.7 (from timm)\n",
            "  Downloading torch-2.0.1-cp310-cp310-manylinux1_x86_64.whl (619.9 MB)\n",
            "\u001b[2K     \u001b[90m━━━━━━━━━━━━━━━━━━━━━━━━━━━━━━━━━━━━━━━\u001b[0m \u001b[32m619.9/619.9 MB\u001b[0m \u001b[31m1.7 MB/s\u001b[0m eta \u001b[36m0:00:00\u001b[0m\n",
            "\u001b[?25hRequirement already satisfied: torchvision in /usr/local/lib/python3.10/dist-packages (from timm) (0.15.2+cu118)\n",
            "Requirement already satisfied: pyyaml in /usr/local/lib/python3.10/dist-packages (from timm) (6.0)\n",
            "Requirement already satisfied: huggingface-hub in /usr/local/lib/python3.10/dist-packages (from timm) (0.15.1)\n",
            "Requirement already satisfied: safetensors in /usr/local/lib/python3.10/dist-packages (from timm) (0.3.1)\n",
            "Requirement already satisfied: decorator<5.0,>=4.0.2 in /usr/local/lib/python3.10/dist-packages (from moviepy) (4.4.2)\n",
            "Requirement already satisfied: tqdm<5.0,>=4.11.2 in /usr/local/lib/python3.10/dist-packages (from moviepy) (4.65.0)\n",
            "Requirement already satisfied: requests<3.0,>=2.8.1 in /usr/local/lib/python3.10/dist-packages (from moviepy) (2.27.1)\n",
            "Requirement already satisfied: proglog<=1.0.0 in /usr/local/lib/python3.10/dist-packages (from moviepy) (0.1.10)\n",
            "Requirement already satisfied: numpy>=1.17.3 in /usr/local/lib/python3.10/dist-packages (from moviepy) (1.22.4)\n",
            "Requirement already satisfied: imageio<3.0,>=2.5 in /usr/local/lib/python3.10/dist-packages (from moviepy) (2.25.1)\n",
            "Requirement already satisfied: imageio-ffmpeg>=0.2.0 in /usr/local/lib/python3.10/dist-packages (from moviepy) (0.4.8)\n",
            "Requirement already satisfied: pillow>=8.3.2 in /usr/local/lib/python3.10/dist-packages (from imageio<3.0,>=2.5->moviepy) (8.4.0)\n",
            "Requirement already satisfied: urllib3<1.27,>=1.21.1 in /usr/local/lib/python3.10/dist-packages (from requests<3.0,>=2.8.1->moviepy) (1.26.15)\n",
            "Requirement already satisfied: certifi>=2017.4.17 in /usr/local/lib/python3.10/dist-packages (from requests<3.0,>=2.8.1->moviepy) (2022.12.7)\n",
            "Requirement already satisfied: charset-normalizer~=2.0.0 in /usr/local/lib/python3.10/dist-packages (from requests<3.0,>=2.8.1->moviepy) (2.0.12)\n",
            "Requirement already satisfied: idna<4,>=2.5 in /usr/local/lib/python3.10/dist-packages (from requests<3.0,>=2.8.1->moviepy) (3.4)\n",
            "Requirement already satisfied: filelock in /usr/local/lib/python3.10/dist-packages (from torch>=1.7->timm) (3.12.0)\n",
            "Requirement already satisfied: typing-extensions in /usr/local/lib/python3.10/dist-packages (from torch>=1.7->timm) (4.5.0)\n",
            "Requirement already satisfied: sympy in /usr/local/lib/python3.10/dist-packages (from torch>=1.7->timm) (1.11.1)\n",
            "Requirement already satisfied: networkx in /usr/local/lib/python3.10/dist-packages (from torch>=1.7->timm) (3.1)\n",
            "Requirement already satisfied: jinja2 in /usr/local/lib/python3.10/dist-packages (from torch>=1.7->timm) (3.1.2)\n",
            "Collecting nvidia-cuda-nvrtc-cu11==11.7.99 (from torch>=1.7->timm)\n",
            "  Downloading nvidia_cuda_nvrtc_cu11-11.7.99-2-py3-none-manylinux1_x86_64.whl (21.0 MB)\n",
            "\u001b[2K     \u001b[90m━━━━━━━━━━━━━━━━━━━━━━━━━━━━━━━━━━━━━━━━\u001b[0m \u001b[32m21.0/21.0 MB\u001b[0m \u001b[31m74.4 MB/s\u001b[0m eta \u001b[36m0:00:00\u001b[0m\n",
            "\u001b[?25hCollecting nvidia-cuda-runtime-cu11==11.7.99 (from torch>=1.7->timm)\n",
            "  Downloading nvidia_cuda_runtime_cu11-11.7.99-py3-none-manylinux1_x86_64.whl (849 kB)\n",
            "\u001b[2K     \u001b[90m━━━━━━━━━━━━━━━━━━━━━━━━━━━━━━━━━━━━━━\u001b[0m \u001b[32m849.3/849.3 kB\u001b[0m \u001b[31m70.3 MB/s\u001b[0m eta \u001b[36m0:00:00\u001b[0m\n",
            "\u001b[?25hCollecting nvidia-cuda-cupti-cu11==11.7.101 (from torch>=1.7->timm)\n",
            "  Downloading nvidia_cuda_cupti_cu11-11.7.101-py3-none-manylinux1_x86_64.whl (11.8 MB)\n",
            "\u001b[2K     \u001b[90m━━━━━━━━━━━━━━━━━━━━━━━━━━━━━━━━━━━━━━━━\u001b[0m \u001b[32m11.8/11.8 MB\u001b[0m \u001b[31m74.9 MB/s\u001b[0m eta \u001b[36m0:00:00\u001b[0m\n",
            "\u001b[?25hCollecting nvidia-cudnn-cu11==8.5.0.96 (from torch>=1.7->timm)\n",
            "  Downloading nvidia_cudnn_cu11-8.5.0.96-2-py3-none-manylinux1_x86_64.whl (557.1 MB)\n",
            "\u001b[2K     \u001b[90m━━━━━━━━━━━━━━━━━━━━━━━━━━━━━━━━━━━━━━━\u001b[0m \u001b[32m557.1/557.1 MB\u001b[0m \u001b[31m2.6 MB/s\u001b[0m eta \u001b[36m0:00:00\u001b[0m\n",
            "\u001b[?25hCollecting nvidia-cublas-cu11==11.10.3.66 (from torch>=1.7->timm)\n",
            "  Downloading nvidia_cublas_cu11-11.10.3.66-py3-none-manylinux1_x86_64.whl (317.1 MB)\n",
            "\u001b[2K     \u001b[90m━━━━━━━━━━━━━━━━━━━━━━━━━━━━━━━━━━━━━━━\u001b[0m \u001b[32m317.1/317.1 MB\u001b[0m \u001b[31m4.9 MB/s\u001b[0m eta \u001b[36m0:00:00\u001b[0m\n",
            "\u001b[?25hCollecting nvidia-cufft-cu11==10.9.0.58 (from torch>=1.7->timm)\n",
            "  Downloading nvidia_cufft_cu11-10.9.0.58-py3-none-manylinux1_x86_64.whl (168.4 MB)\n",
            "\u001b[2K     \u001b[90m━━━━━━━━━━━━━━━━━━━━━━━━━━━━━━━━━━━━━━━\u001b[0m \u001b[32m168.4/168.4 MB\u001b[0m \u001b[31m2.4 MB/s\u001b[0m eta \u001b[36m0:00:00\u001b[0m\n",
            "\u001b[?25hCollecting nvidia-curand-cu11==10.2.10.91 (from torch>=1.7->timm)\n",
            "  Downloading nvidia_curand_cu11-10.2.10.91-py3-none-manylinux1_x86_64.whl (54.6 MB)\n",
            "\u001b[2K     \u001b[90m━━━━━━━━━━━━━━━━━━━━━━━━━━━━━━━━━━━━━━━━\u001b[0m \u001b[32m54.6/54.6 MB\u001b[0m \u001b[31m12.5 MB/s\u001b[0m eta \u001b[36m0:00:00\u001b[0m\n",
            "\u001b[?25hCollecting nvidia-cusolver-cu11==11.4.0.1 (from torch>=1.7->timm)\n",
            "  Downloading nvidia_cusolver_cu11-11.4.0.1-2-py3-none-manylinux1_x86_64.whl (102.6 MB)\n",
            "\u001b[2K     \u001b[90m━━━━━━━━━━━━━━━━━━━━━━━━━━━━━━━━━━━━━━━\u001b[0m \u001b[32m102.6/102.6 MB\u001b[0m \u001b[31m9.9 MB/s\u001b[0m eta \u001b[36m0:00:00\u001b[0m\n",
            "\u001b[?25hCollecting nvidia-cusparse-cu11==11.7.4.91 (from torch>=1.7->timm)\n",
            "  Downloading nvidia_cusparse_cu11-11.7.4.91-py3-none-manylinux1_x86_64.whl (173.2 MB)\n",
            "\u001b[2K     \u001b[90m━━━━━━━━━━━━━━━━━━━━━━━━━━━━━━━━━━━━━━━\u001b[0m \u001b[32m173.2/173.2 MB\u001b[0m \u001b[31m7.1 MB/s\u001b[0m eta \u001b[36m0:00:00\u001b[0m\n",
            "\u001b[?25hCollecting nvidia-nccl-cu11==2.14.3 (from torch>=1.7->timm)\n",
            "  Downloading nvidia_nccl_cu11-2.14.3-py3-none-manylinux1_x86_64.whl (177.1 MB)\n",
            "\u001b[2K     \u001b[90m━━━━━━━━━━━━━━━━━━━━━━━━━━━━━━━━━━━━━━━\u001b[0m \u001b[32m177.1/177.1 MB\u001b[0m \u001b[31m2.4 MB/s\u001b[0m eta \u001b[36m0:00:00\u001b[0m\n",
            "\u001b[?25hCollecting nvidia-nvtx-cu11==11.7.91 (from torch>=1.7->timm)\n",
            "  Downloading nvidia_nvtx_cu11-11.7.91-py3-none-manylinux1_x86_64.whl (98 kB)\n",
            "\u001b[2K     \u001b[90m━━━━━━━━━━━━━━━━━━━━━━━━━━━━━━━━━━━━━━━━\u001b[0m \u001b[32m98.6/98.6 kB\u001b[0m \u001b[31m13.7 MB/s\u001b[0m eta \u001b[36m0:00:00\u001b[0m\n",
            "\u001b[?25hRequirement already satisfied: triton==2.0.0 in /usr/local/lib/python3.10/dist-packages (from torch>=1.7->timm) (2.0.0)\n",
            "Requirement already satisfied: setuptools in /usr/local/lib/python3.10/dist-packages (from nvidia-cublas-cu11==11.10.3.66->torch>=1.7->timm) (67.7.2)\n",
            "Requirement already satisfied: wheel in /usr/local/lib/python3.10/dist-packages (from nvidia-cublas-cu11==11.10.3.66->torch>=1.7->timm) (0.40.0)\n",
            "Requirement already satisfied: cmake in /usr/local/lib/python3.10/dist-packages (from triton==2.0.0->torch>=1.7->timm) (3.25.2)\n",
            "Requirement already satisfied: lit in /usr/local/lib/python3.10/dist-packages (from triton==2.0.0->torch>=1.7->timm) (16.0.5)\n",
            "Requirement already satisfied: fsspec in /usr/local/lib/python3.10/dist-packages (from huggingface-hub->timm) (2023.4.0)\n",
            "Requirement already satisfied: packaging>=20.9 in /usr/local/lib/python3.10/dist-packages (from huggingface-hub->timm) (23.1)\n",
            "Requirement already satisfied: MarkupSafe>=2.0 in /usr/local/lib/python3.10/dist-packages (from jinja2->torch>=1.7->timm) (2.1.2)\n",
            "Requirement already satisfied: mpmath>=0.19 in /usr/local/lib/python3.10/dist-packages (from sympy->torch>=1.7->timm) (1.3.0)\n",
            "Installing collected packages: nvidia-nvtx-cu11, nvidia-nccl-cu11, nvidia-cusparse-cu11, nvidia-curand-cu11, nvidia-cufft-cu11, nvidia-cuda-runtime-cu11, nvidia-cuda-nvrtc-cu11, nvidia-cuda-cupti-cu11, nvidia-cublas-cu11, nvidia-cusolver-cu11, nvidia-cudnn-cu11, torch\n",
            "Successfully installed nvidia-cublas-cu11-11.10.3.66 nvidia-cuda-cupti-cu11-11.7.101 nvidia-cuda-nvrtc-cu11-11.7.99 nvidia-cuda-runtime-cu11-11.7.99 nvidia-cudnn-cu11-8.5.0.96 nvidia-cufft-cu11-10.9.0.58 nvidia-curand-cu11-10.2.10.91 nvidia-cusolver-cu11-11.4.0.1 nvidia-cusparse-cu11-11.7.4.91 nvidia-nccl-cu11-2.14.3 nvidia-nvtx-cu11-11.7.91 torch-2.0.1\n"
          ]
        },
        {
          "data": {
            "application/vnd.colab-display-data+json": {
              "pip_warning": {
                "packages": [
                  "nvfuser",
                  "torch"
                ]
              }
            }
          },
          "metadata": {},
          "output_type": "display_data"
        },
        {
          "name": "stdout",
          "output_type": "stream",
          "text": [
            "2.0.1+cu117\n",
            "True\n",
            "1\n"
          ]
        }
      ],
      "source": [
        "# Pytorch 1.9.0をインストール\n",
        "!pip uninstall torch -y\n",
        "!pip install torch==1.9.0+cu111 torchvision==0.10.0+cu111 torchaudio==0.9.0 -f https://download.pytorch.org/whl/torch_stable.html\n",
        "!pip install einops timm moviepy\n",
        "\n",
        "# インストールしたPytorchの動作確認(バージョン、CUDAの認識可否、GPU数確認)\n",
        "import torch\n",
        "!python -c \"import torch; print(torch.__version__); print(torch.cuda.is_available()); print(torch.cuda.device_count());\""
      ]
    },
    {
      "cell_type": "code",
      "execution_count": null,
      "metadata": {
        "colab": {
          "base_uri": "https://localhost:8080/"
        },
        "id": "qSDFwv3vnwGK",
        "outputId": "e5f2577d-b2b4-4cae-d7fe-e6e0a0cb1693"
      },
      "outputs": [
        {
          "name": "stdout",
          "output_type": "stream",
          "text": [
            "Looking in indexes: https://pypi.org/simple, https://us-python.pkg.dev/colab-wheels/public/simple/\n",
            "Collecting git+https://github.com/tusharsarkar3/XBNet.git\n",
            "  Cloning https://github.com/tusharsarkar3/XBNet.git to /tmp/pip-req-build-7nsglnl5\n",
            "  Running command git clone --filter=blob:none --quiet https://github.com/tusharsarkar3/XBNet.git /tmp/pip-req-build-7nsglnl5\n",
            "  Resolved https://github.com/tusharsarkar3/XBNet.git to commit 2b771d6beb9f15ae48e2a365f46d6f996811086f\n",
            "  Preparing metadata (setup.py) ... \u001b[?25l\u001b[?25hdone\n",
            "Collecting sklearn==0.0 (from XBNet==1.4.6)\n",
            "  Using cached sklearn-0.0.tar.gz (1.1 kB)\n",
            "  Preparing metadata (setup.py) ... \u001b[?25l\u001b[?25hdone\n",
            "Collecting numpy==1.22.0 (from XBNet==1.4.6)\n",
            "  Using cached numpy-1.22.0-cp310-cp310-manylinux_2_17_x86_64.manylinux2014_x86_64.whl (16.8 MB)\n",
            "Collecting pandas==1.3.3 (from XBNet==1.4.6)\n",
            "  Using cached pandas-1.3.3-cp310-cp310-manylinux_2_17_x86_64.manylinux2014_x86_64.whl (11.5 MB)\n",
            "Collecting matplotlib==3.4.3 (from XBNet==1.4.6)\n",
            "  Using cached matplotlib-3.4.3.tar.gz (37.9 MB)\n",
            "  Preparing metadata (setup.py) ... \u001b[?25l\u001b[?25hdone\n",
            "INFO: pip is looking at multiple versions of xbnet to determine which version is compatible with other requirements. This could take a while.\n",
            "\u001b[31mERROR: Could not find a version that satisfies the requirement torch==1.9.0 (from xbnet) (from versions: 1.11.0, 1.12.0, 1.12.1, 1.13.0, 1.13.1, 2.0.0, 2.0.1)\u001b[0m\u001b[31m\n",
            "\u001b[0m\u001b[31mERROR: No matching distribution found for torch==1.9.0\u001b[0m\u001b[31m\n",
            "\u001b[0m"
          ]
        }
      ],
      "source": [
        "pip install --upgrade git+https://github.com/tusharsarkar3/XBNet.git"
      ]
    },
    {
      "cell_type": "code",
      "execution_count": null,
      "metadata": {
        "colab": {
          "base_uri": "https://localhost:8080/"
        },
        "id": "qrC6VPv9nkBj",
        "outputId": "18bedc6f-7ace-470c-c14b-9e25a41c52ce"
      },
      "outputs": [
        {
          "name": "stdout",
          "output_type": "stream",
          "text": [
            "Looking in indexes: https://pypi.org/simple, https://us-python.pkg.dev/colab-wheels/public/simple/\n",
            "Requirement already satisfied: pip in /usr/local/lib/python3.10/dist-packages (23.1.2)\n"
          ]
        }
      ],
      "source": [
        "!pip install --upgrade pip"
      ]
    },
    {
      "cell_type": "code",
      "execution_count": null,
      "metadata": {
        "colab": {
          "base_uri": "https://localhost:8080/"
        },
        "id": "3Nllih9Sokms",
        "outputId": "58b430a3-a960-49e8-89a7-19acd9cfeec9"
      },
      "outputs": [
        {
          "name": "stdout",
          "output_type": "stream",
          "text": [
            "Looking in indexes: https://pypi.org/simple, https://us-python.pkg.dev/colab-wheels/public/simple/\n",
            "\u001b[31mERROR: Could not find a version that satisfies the requirement torch==1.9.0 (from versions: 1.11.0, 1.12.0, 1.12.1, 1.13.0, 1.13.1, 2.0.0, 2.0.1)\u001b[0m\u001b[31m\n",
            "\u001b[0m\u001b[31mERROR: No matching distribution found for torch==1.9.0\u001b[0m\u001b[31m\n",
            "\u001b[0m"
          ]
        }
      ],
      "source": [
        "!pip install torch==1.9.0"
      ]
    },
    {
      "cell_type": "code",
      "execution_count": null,
      "metadata": {
        "colab": {
          "base_uri": "https://localhost:8080/"
        },
        "id": "Rzfcn-Dbom3K",
        "outputId": "538bf303-f7d3-41fb-a745-5b0336da91fe"
      },
      "outputs": [
        {
          "name": "stdout",
          "output_type": "stream",
          "text": [
            "Cloning into 'XBNet'...\n",
            "remote: Enumerating objects: 342, done.\u001b[K\n",
            "remote: Counting objects: 100% (60/60), done.\u001b[K\n",
            "remote: Compressing objects: 100% (34/34), done.\u001b[K\n",
            "remote: Total 342 (delta 25), reused 46 (delta 23), pack-reused 282\u001b[K\n",
            "Receiving objects: 100% (342/342), 9.73 MiB | 8.21 MiB/s, done.\n",
            "Resolving deltas: 100% (160/160), done.\n"
          ]
        }
      ],
      "source": [
        "!git clone https://github.com/tusharsarkar3/XBNet.git"
      ]
    },
    {
      "cell_type": "code",
      "execution_count": null,
      "metadata": {
        "colab": {
          "base_uri": "https://localhost:8080/"
        },
        "id": "Q8_CWqn9qoB-",
        "outputId": "57f748a2-c0ca-4de0-9306-02d0bc25e877"
      },
      "outputs": [
        {
          "name": "stdout",
          "output_type": "stream",
          "text": [
            "/content/XBNet\n"
          ]
        }
      ],
      "source": [
        "cd XBNet"
      ]
    },
    {
      "cell_type": "code",
      "execution_count": null,
      "metadata": {
        "colab": {
          "base_uri": "https://localhost:8080/",
          "height": 1000
        },
        "id": "9ZAlO5Rcqupe",
        "outputId": "d979d9c5-7031-4543-c40b-7ece806c9ff8"
      },
      "outputs": [
        {
          "name": "stdout",
          "output_type": "stream",
          "text": [
            "Looking in indexes: https://pypi.org/simple, https://us-python.pkg.dev/colab-wheels/public/simple/\n",
            "Processing /content/XBNet\n",
            "  Preparing metadata (setup.py) ... \u001b[?25l\u001b[?25hdone\n",
            "Collecting sklearn==0.0 (from XBNet==1.4.6)\n",
            "  Using cached sklearn-0.0.tar.gz (1.1 kB)\n",
            "  Preparing metadata (setup.py) ... \u001b[?25l\u001b[?25hdone\n",
            "Collecting numpy==1.22.0 (from XBNet==1.4.6)\n",
            "  Using cached numpy-1.22.0-cp310-cp310-manylinux_2_17_x86_64.manylinux2014_x86_64.whl (16.8 MB)\n",
            "Collecting pandas==1.3.3 (from XBNet==1.4.6)\n",
            "  Using cached pandas-1.3.3-cp310-cp310-manylinux_2_17_x86_64.manylinux2014_x86_64.whl (11.5 MB)\n",
            "Collecting matplotlib==3.4.3 (from XBNet==1.4.6)\n",
            "  Using cached matplotlib-3.4.3.tar.gz (37.9 MB)\n",
            "  Preparing metadata (setup.py) ... \u001b[?25l\u001b[?25hdone\n",
            "Collecting torch==1.11.0 (from XBNet==1.4.6)\n",
            "  Downloading torch-1.11.0-cp310-cp310-manylinux1_x86_64.whl (750.6 MB)\n",
            "\u001b[2K     \u001b[90m━━━━━━━━━━━━━━━━━━━━━━━━━━━━━━━━━━━━━━━\u001b[0m \u001b[32m750.6/750.6 MB\u001b[0m \u001b[31m2.2 MB/s\u001b[0m eta \u001b[36m0:00:00\u001b[0m\n",
            "\u001b[?25hCollecting xgboost==1.4.2 (from XBNet==1.4.6)\n",
            "  Downloading xgboost-1.4.2-py3-none-manylinux2010_x86_64.whl (166.7 MB)\n",
            "\u001b[2K     \u001b[90m━━━━━━━━━━━━━━━━━━━━━━━━━━━━━━━━━━━━━━━\u001b[0m \u001b[32m166.7/166.7 MB\u001b[0m \u001b[31m7.5 MB/s\u001b[0m eta \u001b[36m0:00:00\u001b[0m\n",
            "\u001b[?25hCollecting tqdm==4.62.2 (from XBNet==1.4.6)\n",
            "  Downloading tqdm-4.62.2-py2.py3-none-any.whl (76 kB)\n",
            "\u001b[2K     \u001b[90m━━━━━━━━━━━━━━━━━━━━━━━━━━━━━━━━━━━━━━━━\u001b[0m \u001b[32m76.2/76.2 kB\u001b[0m \u001b[31m10.8 MB/s\u001b[0m eta \u001b[36m0:00:00\u001b[0m\n",
            "\u001b[?25hRequirement already satisfied: cycler>=0.10 in /usr/local/lib/python3.10/dist-packages (from matplotlib==3.4.3->XBNet==1.4.6) (0.11.0)\n",
            "Requirement already satisfied: kiwisolver>=1.0.1 in /usr/local/lib/python3.10/dist-packages (from matplotlib==3.4.3->XBNet==1.4.6) (1.4.4)\n",
            "Requirement already satisfied: pillow>=6.2.0 in /usr/local/lib/python3.10/dist-packages (from matplotlib==3.4.3->XBNet==1.4.6) (8.4.0)\n",
            "Requirement already satisfied: pyparsing>=2.2.1 in /usr/local/lib/python3.10/dist-packages (from matplotlib==3.4.3->XBNet==1.4.6) (3.0.9)\n",
            "Requirement already satisfied: python-dateutil>=2.7 in /usr/local/lib/python3.10/dist-packages (from matplotlib==3.4.3->XBNet==1.4.6) (2.8.2)\n",
            "Requirement already satisfied: pytz>=2017.3 in /usr/local/lib/python3.10/dist-packages (from pandas==1.3.3->XBNet==1.4.6) (2022.7.1)\n",
            "Requirement already satisfied: scikit-learn in /usr/local/lib/python3.10/dist-packages (from sklearn==0.0->XBNet==1.4.6) (1.2.2)\n",
            "Requirement already satisfied: typing-extensions in /usr/local/lib/python3.10/dist-packages (from torch==1.11.0->XBNet==1.4.6) (4.5.0)\n",
            "Requirement already satisfied: scipy in /usr/local/lib/python3.10/dist-packages (from xgboost==1.4.2->XBNet==1.4.6) (1.10.1)\n",
            "Requirement already satisfied: six>=1.5 in /usr/local/lib/python3.10/dist-packages (from python-dateutil>=2.7->matplotlib==3.4.3->XBNet==1.4.6) (1.16.0)\n",
            "Requirement already satisfied: joblib>=1.1.1 in /usr/local/lib/python3.10/dist-packages (from scikit-learn->sklearn==0.0->XBNet==1.4.6) (1.2.0)\n",
            "Requirement already satisfied: threadpoolctl>=2.0.0 in /usr/local/lib/python3.10/dist-packages (from scikit-learn->sklearn==0.0->XBNet==1.4.6) (3.1.0)\n",
            "Building wheels for collected packages: XBNet, matplotlib, sklearn\n",
            "  Building wheel for XBNet (setup.py) ... \u001b[?25l\u001b[?25hdone\n",
            "  Created wheel for XBNet: filename=XBNet-1.4.6-py3-none-any.whl size=12345 sha256=95447ac64ff0b1dd896d35db4868dad664da96d1a2b992d9f47e165f94c21713\n",
            "  Stored in directory: /tmp/pip-ephem-wheel-cache-thjdm2xf/wheels/96/4c/2e/055fb24e94ca17261465353b08eebb1f8173149cafc9916231\n",
            "  Building wheel for matplotlib (setup.py) ... \u001b[?25l\u001b[?25hdone\n",
            "  Created wheel for matplotlib: filename=matplotlib-3.4.3-cp310-cp310-linux_x86_64.whl size=10523205 sha256=de6bab2be373ebf5e45234deec71e2d8f023decc8094bdad12827a97f53ac477\n",
            "  Stored in directory: /root/.cache/pip/wheels/71/af/e4/d399b616d3e7ae88374c2ebab2d5d3ecf776a3590d4f5f768f\n",
            "  Building wheel for sklearn (setup.py) ... \u001b[?25l\u001b[?25hdone\n",
            "  Created wheel for sklearn: filename=sklearn-0.0-py2.py3-none-any.whl size=1302 sha256=ae7a27bea2a3778e3853d34dc3ecba475d619e30f76d59e119a99a51635e8b20\n",
            "  Stored in directory: /root/.cache/pip/wheels/9b/13/01/6f3a7fd641f90e1f6c8c7cded057f3394f451f340371c68f3d\n",
            "Successfully built XBNet matplotlib sklearn\n",
            "Installing collected packages: tqdm, torch, numpy, pandas, matplotlib, xgboost, sklearn, XBNet\n",
            "  Attempting uninstall: tqdm\n",
            "    Found existing installation: tqdm 4.65.0\n",
            "    Uninstalling tqdm-4.65.0:\n",
            "      Successfully uninstalled tqdm-4.65.0\n",
            "  Attempting uninstall: torch\n",
            "    Found existing installation: torch 2.0.1\n",
            "    Uninstalling torch-2.0.1:\n",
            "      Successfully uninstalled torch-2.0.1\n",
            "  Attempting uninstall: numpy\n",
            "    Found existing installation: numpy 1.22.4\n",
            "    Uninstalling numpy-1.22.4:\n",
            "      Successfully uninstalled numpy-1.22.4\n",
            "  Attempting uninstall: pandas\n",
            "    Found existing installation: pandas 1.5.3\n",
            "    Uninstalling pandas-1.5.3:\n",
            "      Successfully uninstalled pandas-1.5.3\n",
            "  Attempting uninstall: matplotlib\n",
            "    Found existing installation: matplotlib 3.7.1\n",
            "    Uninstalling matplotlib-3.7.1:\n",
            "      Successfully uninstalled matplotlib-3.7.1\n",
            "  Attempting uninstall: xgboost\n",
            "    Found existing installation: xgboost 1.7.5\n",
            "    Uninstalling xgboost-1.7.5:\n",
            "      Successfully uninstalled xgboost-1.7.5\n",
            "\u001b[31mERROR: pip's dependency resolver does not currently take into account all the packages that are installed. This behaviour is the source of the following dependency conflicts.\n",
            "google-colab 1.0.0 requires pandas==1.5.3, but you have pandas 1.3.3 which is incompatible.\n",
            "librosa 0.10.0.post2 requires numpy!=1.22.0,!=1.22.1,!=1.22.2,>=1.20.3, but you have numpy 1.22.0 which is incompatible.\n",
            "mizani 0.8.1 requires matplotlib>=3.5.0, but you have matplotlib 3.4.3 which is incompatible.\n",
            "mizani 0.8.1 requires pandas>=1.3.5, but you have pandas 1.3.3 which is incompatible.\n",
            "plotnine 0.10.1 requires matplotlib>=3.5.0, but you have matplotlib 3.4.3 which is incompatible.\n",
            "plotnine 0.10.1 requires pandas>=1.3.5, but you have pandas 1.3.3 which is incompatible.\n",
            "torchaudio 2.0.2+cu118 requires torch==2.0.1, but you have torch 1.11.0 which is incompatible.\n",
            "torchdata 0.6.1 requires torch==2.0.1, but you have torch 1.11.0 which is incompatible.\n",
            "torchtext 0.15.2 requires torch==2.0.1, but you have torch 1.11.0 which is incompatible.\n",
            "torchvision 0.15.2+cu118 requires torch==2.0.1, but you have torch 1.11.0 which is incompatible.\u001b[0m\u001b[31m\n",
            "\u001b[0mSuccessfully installed XBNet-1.4.6 matplotlib-3.4.3 numpy-1.22.0 pandas-1.3.3 sklearn-0.0 torch-1.11.0 tqdm-4.62.2 xgboost-1.4.2\n"
          ]
        },
        {
          "data": {
            "application/vnd.colab-display-data+json": {
              "pip_warning": {
                "packages": [
                  "matplotlib",
                  "mpl_toolkits",
                  "numpy",
                  "pandas",
                  "torch",
                  "tqdm"
                ]
              }
            }
          },
          "metadata": {},
          "output_type": "display_data"
        }
      ],
      "source": [
        "pip install ."
      ]
    },
    {
      "cell_type": "code",
      "execution_count": null,
      "metadata": {
        "id": "EERq-O1kq8ro"
      },
      "outputs": [],
      "source": [
        "import torch\n",
        "import numpy as np\n",
        "import pandas as pd\n",
        "from sklearn.preprocessing import LabelEncoder\n",
        "from sklearn.model_selection import train_test_split\n",
        "from XBNet.training_utils import training,predict\n",
        "from XBNet.models import XBNETClassifier\n",
        "from XBNet.run import run_XBNET"
      ]
    },
    {
      "cell_type": "code",
      "execution_count": null,
      "metadata": {
        "id": "w4jOhPZ1r-7x"
      },
      "outputs": [],
      "source": [
        "iris = datasets.load_iris()\n",
        "df = pd.DataFrame(iris.data, columns=iris.feature_names)\n",
        "\n",
        "# targetというカラムに目的変数となる名前を入れる\n",
        "df['target'] = iris.target_names[iris.target]"
      ]
    },
    {
      "cell_type": "code",
      "execution_count": null,
      "metadata": {
        "colab": {
          "base_uri": "https://localhost:8080/"
        },
        "id": "1S3ZS_btrOU6",
        "outputId": "bc17ebde-2579-4473-c14b-cca0d7cda57c"
      },
      "outputs": [
        {
          "name": "stdout",
          "output_type": "stream",
          "text": [
            "(150, 5)\n",
            "(150, 4)\n",
            "['setosa' 'versicolor' 'virginica']\n",
            "Enter dimensions of linear layers: \n",
            "Enter input dimensions of layer 1: 4\n",
            "Enter output dimensions of layer 1: 4\n",
            "Set bias as True or False: 4\n",
            "Enter input dimensions of layer 2: 4\n",
            "Enter output dimensions of layer 2: 4\n",
            "Set bias as True or False: 4\n",
            "Enter your last layer \n",
            "1. Sigmoid \n",
            "2. Softmax \n",
            "3. None \n",
            "4\n"
          ]
        },
        {
          "name": "stderr",
          "output_type": "stream",
          "text": [
            "/usr/local/lib/python3.10/dist-packages/xgboost/sklearn.py:1146: UserWarning: The use of label encoder in XGBClassifier is deprecated and will be removed in a future release. To remove this warning, do the following: 1) Pass option use_label_encoder=False when constructing XGBClassifier object; and 2) Encode your labels (y) as integers starting with 0, i.e. 0, 1, 2, ..., [num_class - 1].\n",
            "  warnings.warn(label_encoder_deprecation_msg, UserWarning)\n"
          ]
        }
      ],
      "source": [
        "data = df\n",
        "print(data.shape)\n",
        "x_data = data[data.columns[:-1]]\n",
        "print(x_data.shape)\n",
        "y_data = data[data.columns[-1]]\n",
        "le = LabelEncoder()\n",
        "y_data = np.array(le.fit_transform(y_data))\n",
        "print(le.classes_)"
      ]
    },
    {
      "cell_type": "code",
      "execution_count": null,
      "metadata": {
        "id": "XNv2WDc7swGw"
      },
      "outputs": [],
      "source": [
        "X_train,X_test,y_train,y_test = train_test_split(x_data.to_numpy(),y_data,test_size = 0.3,random_state = 0)"
      ]
    },
    {
      "cell_type": "code",
      "execution_count": null,
      "metadata": {
        "colab": {
          "base_uri": "https://localhost:8080/",
          "height": 333
        },
        "id": "B4I41cF9syfQ",
        "outputId": "e3670ea1-5d51-49fa-a6ae-ba9eef26aaa4"
      },
      "outputs": [
        {
          "name": "stdout",
          "output_type": "stream",
          "text": [
            "Enter dimensions of linear layers: \n"
          ]
        },
        {
          "ename": "KeyboardInterrupt",
          "evalue": "ignored",
          "output_type": "error",
          "traceback": [
            "\u001b[0;31m---------------------------------------------------------------------------\u001b[0m",
            "\u001b[0;31mKeyboardInterrupt\u001b[0m                         Traceback (most recent call last)",
            "\u001b[0;32m<ipython-input-156-1b34d9a50285>\u001b[0m in \u001b[0;36m<cell line: 1>\u001b[0;34m()\u001b[0m\n\u001b[0;32m----> 1\u001b[0;31m \u001b[0mmodel\u001b[0m \u001b[0;34m=\u001b[0m \u001b[0mXBNETClassifier\u001b[0m\u001b[0;34m(\u001b[0m\u001b[0mX_train\u001b[0m\u001b[0;34m,\u001b[0m\u001b[0my_train\u001b[0m\u001b[0;34m,\u001b[0m\u001b[0;36m2\u001b[0m\u001b[0;34m)\u001b[0m\u001b[0;34m\u001b[0m\u001b[0;34m\u001b[0m\u001b[0m\n\u001b[0m",
            "\u001b[0;32m/content/XBNet/XBNet/models.py\u001b[0m in \u001b[0;36m__init__\u001b[0;34m(self, X_values, y_values, num_layers, num_layers_boosted, input_through_cmd, inputs_for_gui)\u001b[0m\n\u001b[1;32m     30\u001b[0m         \u001b[0mself\u001b[0m\u001b[0;34m.\u001b[0m\u001b[0minputs_layers_gui\u001b[0m \u001b[0;34m=\u001b[0m \u001b[0minputs_for_gui\u001b[0m\u001b[0;34m\u001b[0m\u001b[0;34m\u001b[0m\u001b[0m\n\u001b[1;32m     31\u001b[0m \u001b[0;34m\u001b[0m\u001b[0m\n\u001b[0;32m---> 32\u001b[0;31m         \u001b[0mself\u001b[0m\u001b[0;34m.\u001b[0m\u001b[0mtake_layers_dim\u001b[0m\u001b[0;34m(\u001b[0m\u001b[0;34m)\u001b[0m\u001b[0;34m\u001b[0m\u001b[0;34m\u001b[0m\u001b[0m\n\u001b[0m\u001b[1;32m     33\u001b[0m         \u001b[0mself\u001b[0m\u001b[0;34m.\u001b[0m\u001b[0mbase_tree\u001b[0m\u001b[0;34m(\u001b[0m\u001b[0;34m)\u001b[0m\u001b[0;34m\u001b[0m\u001b[0;34m\u001b[0m\u001b[0m\n\u001b[1;32m     34\u001b[0m \u001b[0;34m\u001b[0m\u001b[0m\n",
            "\u001b[0;32m/content/XBNet/XBNet/models.py\u001b[0m in \u001b[0;36mtake_layers_dim\u001b[0;34m(self)\u001b[0m\n\u001b[1;32m     70\u001b[0m             \u001b[0mprint\u001b[0m\u001b[0;34m(\u001b[0m\u001b[0;34m\"Enter dimensions of linear layers: \"\u001b[0m\u001b[0;34m)\u001b[0m\u001b[0;34m\u001b[0m\u001b[0;34m\u001b[0m\u001b[0m\n\u001b[1;32m     71\u001b[0m             \u001b[0;32mfor\u001b[0m \u001b[0mi\u001b[0m \u001b[0;32min\u001b[0m \u001b[0mrange\u001b[0m\u001b[0;34m(\u001b[0m\u001b[0mself\u001b[0m\u001b[0;34m.\u001b[0m\u001b[0mnum_layers\u001b[0m\u001b[0;34m)\u001b[0m\u001b[0;34m:\u001b[0m\u001b[0;34m\u001b[0m\u001b[0;34m\u001b[0m\u001b[0m\n\u001b[0;32m---> 72\u001b[0;31m                 \u001b[0minp\u001b[0m \u001b[0;34m=\u001b[0m \u001b[0mint\u001b[0m\u001b[0;34m(\u001b[0m\u001b[0minput\u001b[0m\u001b[0;34m(\u001b[0m\u001b[0;34m\"Enter input dimensions of layer \"\u001b[0m \u001b[0;34m+\u001b[0m \u001b[0mstr\u001b[0m\u001b[0;34m(\u001b[0m\u001b[0mi\u001b[0m \u001b[0;34m+\u001b[0m \u001b[0;36m1\u001b[0m\u001b[0;34m)\u001b[0m \u001b[0;34m+\u001b[0m \u001b[0;34m\": \"\u001b[0m\u001b[0;34m)\u001b[0m\u001b[0;34m)\u001b[0m\u001b[0;34m\u001b[0m\u001b[0;34m\u001b[0m\u001b[0m\n\u001b[0m\u001b[1;32m     73\u001b[0m                 \u001b[0mout\u001b[0m \u001b[0;34m=\u001b[0m \u001b[0mint\u001b[0m\u001b[0;34m(\u001b[0m\u001b[0minput\u001b[0m\u001b[0;34m(\u001b[0m\u001b[0;34m\"Enter output dimensions of layer \"\u001b[0m \u001b[0;34m+\u001b[0m \u001b[0mstr\u001b[0m\u001b[0;34m(\u001b[0m\u001b[0mi\u001b[0m \u001b[0;34m+\u001b[0m \u001b[0;36m1\u001b[0m\u001b[0;34m)\u001b[0m\u001b[0;34m+\u001b[0m \u001b[0;34m\": \"\u001b[0m\u001b[0;34m)\u001b[0m\u001b[0;34m)\u001b[0m\u001b[0;34m\u001b[0m\u001b[0;34m\u001b[0m\u001b[0m\n\u001b[1;32m     74\u001b[0m                 \u001b[0mset_bias\u001b[0m \u001b[0;34m=\u001b[0m \u001b[0mbool\u001b[0m\u001b[0;34m(\u001b[0m\u001b[0minput\u001b[0m\u001b[0;34m(\u001b[0m\u001b[0;34m\"Set bias as True or False: \"\u001b[0m\u001b[0;34m)\u001b[0m\u001b[0;34m)\u001b[0m\u001b[0;34m\u001b[0m\u001b[0;34m\u001b[0m\u001b[0m\n",
            "\u001b[0;32m/usr/local/lib/python3.10/dist-packages/ipykernel/kernelbase.py\u001b[0m in \u001b[0;36mraw_input\u001b[0;34m(self, prompt)\u001b[0m\n\u001b[1;32m    849\u001b[0m                 \u001b[0;34m\"raw_input was called, but this frontend does not support input requests.\"\u001b[0m\u001b[0;34m\u001b[0m\u001b[0;34m\u001b[0m\u001b[0m\n\u001b[1;32m    850\u001b[0m             )\n\u001b[0;32m--> 851\u001b[0;31m         return self._input_request(str(prompt),\n\u001b[0m\u001b[1;32m    852\u001b[0m             \u001b[0mself\u001b[0m\u001b[0;34m.\u001b[0m\u001b[0m_parent_ident\u001b[0m\u001b[0;34m,\u001b[0m\u001b[0;34m\u001b[0m\u001b[0;34m\u001b[0m\u001b[0m\n\u001b[1;32m    853\u001b[0m             \u001b[0mself\u001b[0m\u001b[0;34m.\u001b[0m\u001b[0m_parent_header\u001b[0m\u001b[0;34m,\u001b[0m\u001b[0;34m\u001b[0m\u001b[0;34m\u001b[0m\u001b[0m\n",
            "\u001b[0;32m/usr/local/lib/python3.10/dist-packages/ipykernel/kernelbase.py\u001b[0m in \u001b[0;36m_input_request\u001b[0;34m(self, prompt, ident, parent, password)\u001b[0m\n\u001b[1;32m    893\u001b[0m             \u001b[0;32mexcept\u001b[0m \u001b[0mKeyboardInterrupt\u001b[0m\u001b[0;34m:\u001b[0m\u001b[0;34m\u001b[0m\u001b[0;34m\u001b[0m\u001b[0m\n\u001b[1;32m    894\u001b[0m                 \u001b[0;31m# re-raise KeyboardInterrupt, to truncate traceback\u001b[0m\u001b[0;34m\u001b[0m\u001b[0;34m\u001b[0m\u001b[0m\n\u001b[0;32m--> 895\u001b[0;31m                 \u001b[0;32mraise\u001b[0m \u001b[0mKeyboardInterrupt\u001b[0m\u001b[0;34m(\u001b[0m\u001b[0;34m\"Interrupted by user\"\u001b[0m\u001b[0;34m)\u001b[0m \u001b[0;32mfrom\u001b[0m \u001b[0;32mNone\u001b[0m\u001b[0;34m\u001b[0m\u001b[0;34m\u001b[0m\u001b[0m\n\u001b[0m\u001b[1;32m    896\u001b[0m             \u001b[0;32mexcept\u001b[0m \u001b[0mException\u001b[0m \u001b[0;32mas\u001b[0m \u001b[0me\u001b[0m\u001b[0;34m:\u001b[0m\u001b[0;34m\u001b[0m\u001b[0;34m\u001b[0m\u001b[0m\n\u001b[1;32m    897\u001b[0m                 \u001b[0mself\u001b[0m\u001b[0;34m.\u001b[0m\u001b[0mlog\u001b[0m\u001b[0;34m.\u001b[0m\u001b[0mwarning\u001b[0m\u001b[0;34m(\u001b[0m\u001b[0;34m\"Invalid Message:\"\u001b[0m\u001b[0;34m,\u001b[0m \u001b[0mexc_info\u001b[0m\u001b[0;34m=\u001b[0m\u001b[0;32mTrue\u001b[0m\u001b[0;34m)\u001b[0m\u001b[0;34m\u001b[0m\u001b[0;34m\u001b[0m\u001b[0m\n",
            "\u001b[0;31mKeyboardInterrupt\u001b[0m: Interrupted by user"
          ]
        }
      ],
      "source": [
        "model = XBNETClassifier(X_train,y_train,2)"
      ]
    },
    {
      "cell_type": "code",
      "execution_count": null,
      "metadata": {
        "id": "2wgBzmWqsGSW"
      },
      "outputs": [],
      "source": [
        "criterion = torch.nn.CrossEntropyLoss()\n",
        "optimizer = torch.optim.Adam(model.parameters(), lr=0.01)"
      ]
    },
    {
      "cell_type": "code",
      "execution_count": null,
      "metadata": {
        "colab": {
          "base_uri": "https://localhost:8080/",
          "height": 405
        },
        "id": "yXEx1Jb7sqhC",
        "outputId": "41d707d2-a46c-47c6-d377-c5ad59df0d61"
      },
      "outputs": [
        {
          "name": "stderr",
          "output_type": "stream",
          "text": [
            "\rPercentage training completed:   0%|          | 0/300 [00:00<?, ?it/s]/usr/local/lib/python3.10/dist-packages/xgboost/sklearn.py:1146: UserWarning: The use of label encoder in XGBClassifier is deprecated and will be removed in a future release. To remove this warning, do the following: 1) Pass option use_label_encoder=False when constructing XGBClassifier object; and 2) Encode your labels (y) as integers starting with 0, i.e. 0, 1, 2, ..., [num_class - 1].\n",
            "  warnings.warn(label_encoder_deprecation_msg, UserWarning)\n",
            "Percentage training completed:   0%|          | 0/300 [00:00<?, ?it/s]\n"
          ]
        },
        {
          "ename": "TypeError",
          "evalue": "ignored",
          "output_type": "error",
          "traceback": [
            "\u001b[0;31m---------------------------------------------------------------------------\u001b[0m",
            "\u001b[0;31mTypeError\u001b[0m                                 Traceback (most recent call last)",
            "\u001b[0;32m<ipython-input-154-1b0cd3477ea9>\u001b[0m in \u001b[0;36m<cell line: 1>\u001b[0;34m()\u001b[0m\n\u001b[0;32m----> 1\u001b[0;31m \u001b[0mm\u001b[0m\u001b[0;34m,\u001b[0m\u001b[0macc\u001b[0m\u001b[0;34m,\u001b[0m \u001b[0mlo\u001b[0m\u001b[0;34m,\u001b[0m \u001b[0mval_ac\u001b[0m\u001b[0;34m,\u001b[0m \u001b[0mval_lo\u001b[0m \u001b[0;34m=\u001b[0m \u001b[0mrun_XBNET\u001b[0m\u001b[0;34m(\u001b[0m\u001b[0mX_train\u001b[0m\u001b[0;34m,\u001b[0m\u001b[0mX_test\u001b[0m\u001b[0;34m,\u001b[0m\u001b[0my_train\u001b[0m\u001b[0;34m,\u001b[0m\u001b[0my_test\u001b[0m\u001b[0;34m,\u001b[0m\u001b[0mmodel\u001b[0m\u001b[0;34m,\u001b[0m\u001b[0mcriterion\u001b[0m\u001b[0;34m,\u001b[0m\u001b[0moptimizer\u001b[0m\u001b[0;34m,\u001b[0m\u001b[0;36m32\u001b[0m\u001b[0;34m,\u001b[0m\u001b[0;36m300\u001b[0m\u001b[0;34m)\u001b[0m\u001b[0;34m\u001b[0m\u001b[0;34m\u001b[0m\u001b[0m\n\u001b[0m\u001b[1;32m      2\u001b[0m \u001b[0mprint\u001b[0m\u001b[0;34m(\u001b[0m\u001b[0mpredict\u001b[0m\u001b[0;34m(\u001b[0m\u001b[0mm\u001b[0m\u001b[0;34m,\u001b[0m\u001b[0mx_data\u001b[0m\u001b[0;34m.\u001b[0m\u001b[0mto_numpy\u001b[0m\u001b[0;34m(\u001b[0m\u001b[0;34m)\u001b[0m\u001b[0;34m[\u001b[0m\u001b[0;36m0\u001b[0m\u001b[0;34m,\u001b[0m\u001b[0;34m:\u001b[0m\u001b[0;34m]\u001b[0m\u001b[0;34m)\u001b[0m\u001b[0;34m)\u001b[0m\u001b[0;34m\u001b[0m\u001b[0;34m\u001b[0m\u001b[0m\n",
            "\u001b[0;32m/content/XBNet/XBNet/run.py\u001b[0m in \u001b[0;36mrun_XBNET\u001b[0;34m(X_train, X_test, y_train, y_test, model, criterion, optimizer, batch_size, epochs, save)\u001b[0m\n\u001b[1;32m     38\u001b[0m     \u001b[0mtrainDataload\u001b[0m \u001b[0;34m=\u001b[0m \u001b[0mDataLoader\u001b[0m\u001b[0;34m(\u001b[0m\u001b[0mData\u001b[0m\u001b[0;34m(\u001b[0m\u001b[0mX_train\u001b[0m\u001b[0;34m,\u001b[0m \u001b[0my_train\u001b[0m\u001b[0;34m)\u001b[0m\u001b[0;34m,\u001b[0m \u001b[0mbatch_size\u001b[0m\u001b[0;34m=\u001b[0m\u001b[0mbatch_size\u001b[0m\u001b[0;34m)\u001b[0m\u001b[0;34m\u001b[0m\u001b[0;34m\u001b[0m\u001b[0m\n\u001b[1;32m     39\u001b[0m     \u001b[0mtestDataload\u001b[0m \u001b[0;34m=\u001b[0m \u001b[0mDataLoader\u001b[0m\u001b[0;34m(\u001b[0m\u001b[0mData\u001b[0m\u001b[0;34m(\u001b[0m\u001b[0mX_test\u001b[0m\u001b[0;34m,\u001b[0m \u001b[0my_test\u001b[0m\u001b[0;34m)\u001b[0m\u001b[0;34m,\u001b[0m \u001b[0mbatch_size\u001b[0m\u001b[0;34m=\u001b[0m\u001b[0mbatch_size\u001b[0m\u001b[0;34m)\u001b[0m\u001b[0;34m\u001b[0m\u001b[0;34m\u001b[0m\u001b[0m\n\u001b[0;32m---> 40\u001b[0;31m     acc, lo, val_ac, val_lo = training(model, trainDataload, testDataload,\n\u001b[0m\u001b[1;32m     41\u001b[0m                                        criterion, optimizer, epochs,save= save)\n\u001b[1;32m     42\u001b[0m     \u001b[0;32mreturn\u001b[0m \u001b[0mmodel\u001b[0m\u001b[0;34m,\u001b[0m\u001b[0macc\u001b[0m\u001b[0;34m,\u001b[0m \u001b[0mlo\u001b[0m\u001b[0;34m,\u001b[0m \u001b[0mval_ac\u001b[0m\u001b[0;34m,\u001b[0m \u001b[0mval_lo\u001b[0m\u001b[0;34m\u001b[0m\u001b[0;34m\u001b[0m\u001b[0m\n",
            "\u001b[0;32m/content/XBNet/XBNet/training_utils.py\u001b[0m in \u001b[0;36mtraining\u001b[0;34m(model, trainDataload, testDataload, criterion, optimizer, epochs, save)\u001b[0m\n\u001b[1;32m     48\u001b[0m                 \u001b[0;32mif\u001b[0m \u001b[0mi\u001b[0m \u001b[0;34m<\u001b[0m \u001b[0mmodel\u001b[0m\u001b[0;34m.\u001b[0m\u001b[0mnum_layers_boosted\u001b[0m\u001b[0;34m:\u001b[0m\u001b[0;34m\u001b[0m\u001b[0;34m\u001b[0m\u001b[0m\n\u001b[1;32m     49\u001b[0m                     \u001b[0ml0\u001b[0m \u001b[0;34m=\u001b[0m \u001b[0mtorch\u001b[0m\u001b[0;34m.\u001b[0m\u001b[0munsqueeze\u001b[0m\u001b[0;34m(\u001b[0m\u001b[0mmodel\u001b[0m\u001b[0;34m.\u001b[0m\u001b[0msequential\u001b[0m\u001b[0;34m.\u001b[0m\u001b[0mboosted_layers\u001b[0m\u001b[0;34m[\u001b[0m\u001b[0mi\u001b[0m\u001b[0;34m]\u001b[0m\u001b[0;34m,\u001b[0m \u001b[0;36m1\u001b[0m\u001b[0;34m)\u001b[0m\u001b[0;34m\u001b[0m\u001b[0;34m\u001b[0m\u001b[0m\n\u001b[0;32m---> 50\u001b[0;31m                     \u001b[0mlMin\u001b[0m \u001b[0;34m=\u001b[0m \u001b[0mtorch\u001b[0m\u001b[0;34m.\u001b[0m\u001b[0mmin\u001b[0m\u001b[0;34m(\u001b[0m\u001b[0mp\u001b[0m\u001b[0;34m.\u001b[0m\u001b[0mgrad\u001b[0m\u001b[0;34m)\u001b[0m\u001b[0;34m\u001b[0m\u001b[0;34m\u001b[0m\u001b[0m\n\u001b[0m\u001b[1;32m     51\u001b[0m                     \u001b[0mlPower\u001b[0m \u001b[0;34m=\u001b[0m \u001b[0mtorch\u001b[0m\u001b[0;34m.\u001b[0m\u001b[0mlog\u001b[0m\u001b[0;34m(\u001b[0m\u001b[0mtorch\u001b[0m\u001b[0;34m.\u001b[0m\u001b[0mabs\u001b[0m\u001b[0;34m(\u001b[0m\u001b[0mlMin\u001b[0m\u001b[0;34m)\u001b[0m\u001b[0;34m)\u001b[0m\u001b[0;34m\u001b[0m\u001b[0;34m\u001b[0m\u001b[0m\n\u001b[1;32m     52\u001b[0m                     \u001b[0;32mif\u001b[0m \u001b[0mlMin\u001b[0m \u001b[0;34m!=\u001b[0m \u001b[0;36m0\u001b[0m\u001b[0;34m:\u001b[0m\u001b[0;34m\u001b[0m\u001b[0;34m\u001b[0m\u001b[0m\n",
            "\u001b[0;31mTypeError\u001b[0m: min(): argument 'input' (position 1) must be Tensor, not NoneType"
          ]
        }
      ],
      "source": [
        "m,acc, lo, val_ac, val_lo = run_XBNET(X_train,X_test,y_train,y_test,model,criterion,optimizer,32,300)\n",
        "print(predict(m,x_data.to_numpy()[0,:]))"
      ]
    },
    {
      "cell_type": "code",
      "execution_count": null,
      "metadata": {
        "id": "yH9y5jqXsq4y"
      },
      "outputs": [],
      "source": []
    }
  ],
  "metadata": {
    "accelerator": "GPU",
    "colab": {
      "gpuType": "T4",
      "provenance": []
    },
    "kernelspec": {
      "display_name": "Python 3 (ipykernel)",
      "language": "python",
      "name": "python3"
    },
    "language_info": {
      "codemirror_mode": {
        "name": "ipython",
        "version": 3
      },
      "file_extension": ".py",
      "mimetype": "text/x-python",
      "name": "python",
      "nbconvert_exporter": "python",
      "pygments_lexer": "ipython3",
      "version": "3.9.12"
    }
  },
  "nbformat": 4,
  "nbformat_minor": 0
}
